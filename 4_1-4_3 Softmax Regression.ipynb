{
 "cells": [
  {
   "cell_type": "code",
   "id": "initial_id",
   "metadata": {
    "collapsed": true,
    "ExecuteTime": {
     "end_time": "2024-10-15T09:58:30.904562Z",
     "start_time": "2024-10-15T09:58:23.804749Z"
    }
   },
   "source": [
    "import math\n",
    "import time\n",
    "import matplotlib.pyplot as plt\n",
    "import numpy as np\n",
    "import torch\n",
    "from d2l import torch as d2l\n",
    "import random\n",
    "import torchvision\n",
    "from torchvision import transforms\n",
    "from torch.utils.data import DataLoader"
   ],
   "outputs": [],
   "execution_count": 1
  },
  {
   "metadata": {
    "ExecuteTime": {
     "end_time": "2024-10-15T09:58:30.935432Z",
     "start_time": "2024-10-15T09:58:30.908427Z"
    }
   },
   "cell_type": "code",
   "source": [
    "# Загрузка из MNIST\n",
    "class FashionMNIST(d2l.DataModule): #@save\n",
    "    def __init__(self, batch_size=64, resize=(28, 28)):\n",
    "        super().__init__()\n",
    "        self.save_hyperparameters()\n",
    "        trans = transforms.Compose([\n",
    "            transforms.Resize(resize),\n",
    "            transforms.ToTensor() ])\n",
    "        self.train = torchvision.datasets.FashionMNIST(\n",
    "            root=self.root, train=True, transform=trans, download=True\n",
    "        )\n",
    "        \n",
    "        self.val = torchvision.datasets.FashionMNIST(\n",
    "            root=self.root, train=False, transform=trans, download=True\n",
    "        )"
   ],
   "id": "1035f59bbf01391",
   "outputs": [],
   "execution_count": 2
  },
  {
   "metadata": {
    "ExecuteTime": {
     "end_time": "2024-10-15T09:58:31.125430Z",
     "start_time": "2024-10-15T09:58:30.938430Z"
    }
   },
   "cell_type": "code",
   "source": [
    "data = FashionMNIST(resize=(32, 32))\n",
    "print(f'num of train img: {len(data.train)}, num of val img: {len(data.val)}')"
   ],
   "id": "9663e3172fd7591d",
   "outputs": [
    {
     "name": "stdout",
     "output_type": "stream",
     "text": [
      "num of train img: 60000, num of val img: 10000\n"
     ]
    }
   ],
   "execution_count": 3
  },
  {
   "metadata": {
    "ExecuteTime": {
     "end_time": "2024-10-15T09:58:31.187429Z",
     "start_time": "2024-10-15T09:58:31.131432Z"
    }
   },
   "cell_type": "code",
   "source": [
    "# Данные представляются в виде тензоров (c, h, w), where c is channel of color\n",
    "data.train[0][0].shape"
   ],
   "id": "cb4dde63eeed638",
   "outputs": [
    {
     "data": {
      "text/plain": [
       "torch.Size([1, 32, 32])"
      ]
     },
     "execution_count": 4,
     "metadata": {},
     "output_type": "execute_result"
    }
   ],
   "execution_count": 4
  },
  {
   "metadata": {
    "ExecuteTime": {
     "end_time": "2024-10-15T09:58:31.265428Z",
     "start_time": "2024-10-15T09:58:31.190433Z"
    }
   },
   "cell_type": "code",
   "source": [
    "@d2l.add_to_class(FashionMNIST) #@save\n",
    "def text_labels(self, indices):\n",
    "    labels =  ['t-shirt', 'trouser', 'pullover', 'dress', 'coat',\n",
    "              'sandal', 'shirt', 'sneaker', 'bag', 'ankle boot']\n",
    "    return [labels[int(idx)] for idx in indices]"
   ],
   "id": "5d7c209558caa632",
   "outputs": [],
   "execution_count": 5
  },
  {
   "metadata": {
    "ExecuteTime": {
     "end_time": "2024-10-15T09:58:31.374437Z",
     "start_time": "2024-10-15T09:58:31.269428Z"
    }
   },
   "cell_type": "code",
   "source": "data.text_labels([1, 2])",
   "id": "b31ba08a4ad93916",
   "outputs": [
    {
     "data": {
      "text/plain": [
       "['trouser', 'pullover']"
      ]
     },
     "execution_count": 6,
     "metadata": {},
     "output_type": "execute_result"
    }
   ],
   "execution_count": 6
  },
  {
   "metadata": {
    "ExecuteTime": {
     "end_time": "2024-10-15T09:58:31.609425Z",
     "start_time": "2024-10-15T09:58:31.380435Z"
    }
   },
   "cell_type": "code",
   "source": [
    "@d2l.add_to_class(FashionMNIST) #@save\n",
    "def get_dataloader(self, train=True):\n",
    "    data = self.train if train else self.val\n",
    "    return DataLoader(data, batch_size=self.batch_size, shuffle=train, num_workers=0)\n"
   ],
   "id": "51426449a46072a0",
   "outputs": [],
   "execution_count": 7
  },
  {
   "metadata": {
    "ExecuteTime": {
     "end_time": "2024-10-15T09:58:31.820427Z",
     "start_time": "2024-10-15T09:58:31.611426Z"
    }
   },
   "cell_type": "code",
   "source": [
    "X, y = next(iter(data.get_dataloader(train=True)))\n",
    "X.shape, y.shape, y.dtype"
   ],
   "id": "d59dbe82f6872ccf",
   "outputs": [
    {
     "data": {
      "text/plain": [
       "(torch.Size([64, 1, 32, 32]), torch.Size([64]), torch.int64)"
      ]
     },
     "execution_count": 8,
     "metadata": {},
     "output_type": "execute_result"
    }
   ],
   "execution_count": 8
  },
  {
   "metadata": {
    "ExecuteTime": {
     "end_time": "2024-10-15T09:58:42.309432Z",
     "start_time": "2024-10-15T09:58:31.825431Z"
    }
   },
   "cell_type": "code",
   "source": [
    "tic = time.time()\n",
    "for X, y in data.get_dataloader():\n",
    "    continue\n",
    "f\"{time.time()-tic} sec\""
   ],
   "id": "bb5f0eef092e54dc",
   "outputs": [
    {
     "data": {
      "text/plain": [
       "'10.248000621795654 sec'"
      ]
     },
     "execution_count": 9,
     "metadata": {},
     "output_type": "execute_result"
    }
   ],
   "execution_count": 9
  },
  {
   "metadata": {
    "ExecuteTime": {
     "end_time": "2024-10-15T09:58:42.341430Z",
     "start_time": "2024-10-15T09:58:42.320433Z"
    }
   },
   "cell_type": "code",
   "source": [
    "def show_images(imgs, num_rows, num_cols, title=None, scale=1.5): #@save\n",
    "    raise NotImplementedError\n"
   ],
   "id": "48c2085c381b54aa",
   "outputs": [],
   "execution_count": 10
  },
  {
   "metadata": {
    "ExecuteTime": {
     "end_time": "2024-10-15T09:58:42.419430Z",
     "start_time": "2024-10-15T09:58:42.348428Z"
    }
   },
   "cell_type": "code",
   "source": [
    "@d2l.add_to_class(FashionMNIST) #@save\n",
    "def visualize(self, batch, nrows=1, ncols=8, labels=[]):\n",
    "    X, y = batch\n",
    "    if not labels:\n",
    "        labels = self.text_labels(y)\n",
    "    d2l.show_images(X.squeeze(1), nrows, ncols, titles=labels)\n"
   ],
   "id": "b9821b7f9f38510",
   "outputs": [],
   "execution_count": 11
  },
  {
   "metadata": {
    "ExecuteTime": {
     "end_time": "2024-10-15T09:58:42.859429Z",
     "start_time": "2024-10-15T09:58:42.425434Z"
    }
   },
   "cell_type": "code",
   "source": [
    "batch = next(iter(data.val_dataloader()))\n",
    "data.visualize(batch)"
   ],
   "id": "4d17aa6fd7028edc",
   "outputs": [
    {
     "data": {
      "text/plain": [
       "<Figure size 1200x150 with 8 Axes>"
      ],
      "image/png": "[encoded data removed]"
     },
     "metadata": {},
     "output_type": "display_data"
    }
   ],
   "execution_count": 12
  },
  {
   "metadata": {
    "ExecuteTime": {
     "end_time": "2024-10-15T09:58:42.875434Z",
     "start_time": "2024-10-15T09:58:42.864433Z"
    }
   },
   "cell_type": "code",
   "source": [
    "def text_labels(indices):\n",
    "    labels =  ['t-shirt', 'trouser', 'pullover', 'dress', 'coat',\n",
    "              'sandal', 'shirt', 'sneaker', 'bag', 'ankle boot']\n",
    "    return [labels[int(idx)] for idx in indices]"
   ],
   "id": "73a6c06668a828f7",
   "outputs": [],
   "execution_count": 13
  },
  {
   "metadata": {
    "ExecuteTime": {
     "end_time": "2024-10-15T09:58:42.955431Z",
     "start_time": "2024-10-15T09:58:42.877430Z"
    }
   },
   "cell_type": "code",
   "source": [
    "# Модель классификатора\n",
    "class Classifier(d2l.Module): #@save\n",
    "    def validation_step(self, batch):\n",
    "        Y_hat = self(*batch[:-1])\n",
    "        self.plot('loss', self.loss(Y_hat, batch[-1]), train=False)\n",
    "        self.plot('acc', self.accuracy(Y_hat, batch[-1]), train=False)\n",
    "        "
   ],
   "id": "f31dba5b4c10c965",
   "outputs": [],
   "execution_count": 14
  },
  {
   "metadata": {
    "ExecuteTime": {
     "end_time": "2024-10-15T09:58:43.019431Z",
     "start_time": "2024-10-15T09:58:42.958431Z"
    }
   },
   "cell_type": "code",
   "source": [
    "@d2l.add_to_class(d2l.Module) #@save\n",
    "def configure_optimizer(self):\n",
    "    return torch.optim.SGD(self.parameters(), lr=self.lr)\n"
   ],
   "id": "bd45840e47fe6a9a",
   "outputs": [],
   "execution_count": 15
  },
  {
   "metadata": {
    "ExecuteTime": {
     "end_time": "2024-10-15T09:58:43.099431Z",
     "start_time": "2024-10-15T09:58:43.027431Z"
    }
   },
   "cell_type": "code",
   "source": [
    "@d2l.add_to_class(Classifier) #@save\n",
    "def accuracy(self, Y_hat, Y, average=True):\n",
    "    Y_hat = Y_hat.reshape((-1, Y_hat.shape[-1]))\n",
    "    preds = Y_hat.argmax(axis=1).type(Y.dtype)\n",
    "    compare = (preds == Y.reshape(-1)).type(torch.float32)\n",
    "    return compare.mean() if average else compare"
   ],
   "id": "9f02ae45c8c198a1",
   "outputs": [],
   "execution_count": 16
  },
  {
   "metadata": {
    "ExecuteTime": {
     "end_time": "2024-10-15T09:58:43.180432Z",
     "start_time": "2024-10-15T09:58:43.102434Z"
    }
   },
   "cell_type": "code",
   "source": [
    "def softmax(X):\n",
    "    norm = torch.exp(X).sum(dim=1, keepdim=True)\n",
    "    result = X.exp() / norm\n",
    "    return result\n"
   ],
   "id": "181f6ce6ce52382e",
   "outputs": [],
   "execution_count": 17
  },
  {
   "metadata": {
    "ExecuteTime": {
     "end_time": "2024-10-15T09:58:43.243433Z",
     "start_time": "2024-10-15T09:58:43.188429Z"
    }
   },
   "cell_type": "code",
   "source": [
    "class SoftmaxRegressionScratch(d2l.Classifier):\n",
    "    def __init__(self, num_inputs, num_outputs, lr, sigma=0.01):\n",
    "        super().__init__()\n",
    "        self.save_hyperparameters()\n",
    "        self.W = torch.normal(0, sigma, size=(num_inputs, num_outputs), requires_grad=True)\n",
    "        self.b = torch.zeros(num_outputs, requires_grad=True)\n",
    "    def parameters(self):\n",
    "        return [self.W, self.b]"
   ],
   "id": "7fdd1c90c991e520",
   "outputs": [],
   "execution_count": 18
  },
  {
   "metadata": {
    "ExecuteTime": {
     "end_time": "2024-10-15T09:58:43.307428Z",
     "start_time": "2024-10-15T09:58:43.253432Z"
    }
   },
   "cell_type": "code",
   "source": [
    "@d2l.add_to_class(SoftmaxRegressionScratch)\n",
    "def forward(self, X):\n",
    "    X = X.reshape((-1, self.W.shape[0]))\n",
    "    return softmax(torch.matmul(X, self.W) + self.b)"
   ],
   "id": "acfc52ca565519ef",
   "outputs": [],
   "execution_count": 19
  },
  {
   "metadata": {
    "ExecuteTime": {
     "end_time": "2024-10-15T09:58:43.371424Z",
     "start_time": "2024-10-15T09:58:43.313431Z"
    }
   },
   "cell_type": "code",
   "source": [
    "y = torch.tensor([0, 1])\n",
    "y_hat = torch.tensor([[1, 0, 0], [0, 0.2, 0.999]])\n",
    "answer = y_hat[[0, 1], y]\n",
    "print(answer)"
   ],
   "id": "8a11b593f389fbfb",
   "outputs": [
    {
     "name": "stdout",
     "output_type": "stream",
     "text": [
      "tensor([1.0000, 0.2000])\n"
     ]
    }
   ],
   "execution_count": 20
  },
  {
   "metadata": {
    "ExecuteTime": {
     "end_time": "2024-10-15T09:58:43.451428Z",
     "start_time": "2024-10-15T09:58:43.380429Z"
    }
   },
   "cell_type": "code",
   "source": [
    "def cross_entropy(y_hat, y):\n",
    "    return -torch.log(y_hat[list(range(len(y_hat))), y]).mean()"
   ],
   "id": "538b52d4b6bda1f2",
   "outputs": [],
   "execution_count": 21
  },
  {
   "metadata": {
    "ExecuteTime": {
     "end_time": "2024-10-15T09:58:43.513431Z",
     "start_time": "2024-10-15T09:58:43.458434Z"
    }
   },
   "cell_type": "code",
   "source": [
    "@d2l.add_to_class(SoftmaxRegressionScratch)\n",
    "def loss(self, y_hat, y):\n",
    "    return cross_entropy(y_hat, y)"
   ],
   "id": "d3f4826baebd605a",
   "outputs": [],
   "execution_count": 22
  },
  {
   "metadata": {},
   "cell_type": "code",
   "source": [
    "data = d2l.FashionMNIST(batch_size=256)\n",
    "model = SoftmaxRegressionScratch(num_inputs=28*28, num_outputs=10, lr=0.1)\n",
    "trainer = d2l.Trainer(max_epochs=10)\n",
    "trainer.fit(model, data)"
   ],
   "id": "8e945dd7b3808619",
   "execution_count": 23,
   "outputs": []
  },
  {
   "metadata": {
    "ExecuteTime": {
     "end_time": "2024-10-15T10:15:40.571057Z",
     "start_time": "2024-10-15T10:15:33.898057Z"
    }
   },
   "cell_type": "code",
   "source": [
    "X, y = next(iter(d2l.FashionMNIST().get_dataloader(train=False)))\n",
    "preds = model(X).argmax(dim=1)\n",
    "    "
   ],
   "id": "38628e98f15ed77",
   "outputs": [],
   "execution_count": 43
  },
  {
   "metadata": {
    "ExecuteTime": {
     "end_time": "2024-10-15T10:18:33.352043Z",
     "start_time": "2024-10-15T10:18:33.338537Z"
    }
   },
   "cell_type": "code",
   "source": [
    "print(f\"Batch size of inputs is : {X.shape[0]}\")\n",
    "print(f\"Number of correct classifications: {len(y[y==preds])}\")\n",
    "print(f\"Number of incorrect classifications: {len(y[y!=preds])}\")"
   ],
   "id": "76e07b7bb7dcf410",
   "outputs": [
    {
     "name": "stdout",
     "output_type": "stream",
     "text": [
      "Batch size of inputs is : 64\n",
      "Number of correct classifications: 54\n",
      "Number of incorrect classifications: 10\n"
     ]
    }
   ],
   "execution_count": 52
  },
  {
   "metadata": {
    "ExecuteTime": {
     "end_time": "2024-10-15T10:25:21.678792Z",
     "start_time": "2024-10-15T10:25:21.344791Z"
    }
   },
   "cell_type": "code",
   "source": [
    "# Let's output some incorrectly recognized images\n",
    "wrong = y != preds\n",
    "X, y, preds = X[wrong], y[wrong], preds[wrong]\n",
    "labels = ['c: '+a+'\\n'+'un: '+b for a, b in zip(text_labels(y), text_labels(preds))]\n",
    "data.visualize([X, y], labels=labels)"
   ],
   "id": "5791368efdbc1e12",
   "outputs": [
    {
     "data": {
      "text/plain": [
       "<Figure size 1200x150 with 8 Axes>"
      ],
      "image/svg+xml": "<?xml version=\"1.0\" encoding=\"utf-8\" standalone=\"no\"?>\n<!DOCTYPE svg PUBLIC \"-//W3C//DTD SVG 1.1//EN\"\n  \"http://www.w3.org/Graphics/SVG/1.1/DTD/svg11.dtd\">\n<svg xmlns:xlink=\"http://www.w3.org/1999/xlink\" width=\"684pt\" height=\"114.189543pt\" viewBox=\"0 0 684 114.189543\" xmlns=\"http://www.w3.org/2000/svg\" version=\"1.1\">\n <metadata>\n  <rdf:RDF xmlns:dc=\"http://purl.org/dc/elements/1.1/\" xmlns:cc=\"http://creativecommons.org/ns#\" xmlns:rdf=\"http://www.w3.org/1999/02/22-rdf-syntax-ns#\">\n   <cc:Work>\n    <dc:type rdf:resource=\"http://purl.org/dc/dcmitype/StillImage\"/>\n    <dc:date>2024-10-15T13:25:21.629789</dc:date>\n    <dc:format>image/svg+xml</dc:format>\n    <dc:creator>\n     <cc:Agent>\n      <dc:title>Matplotlib v3.7.2, https://matplotlib.org/</dc:title>\n     </cc:Agent>\n    </dc:creator>\n   </cc:Work>\n  </rdf:RDF>\n </metadata>\n <defs>\n  <style type=\"text/css\">*{stroke-linejoin: round; stroke-linecap: butt}</style>\n </defs>\n <g id=\"figure_1\">\n  <g id=\"patch_1\">\n   <path d=\"M 0 114.189543 \nL 684 114.189543 \nL 684 -0 \nL 0 -0 \nz\n\" style=\"fill: #ffffff\"/>\n  </g>\n  <g id=\"axes_1\">\n   <g id=\"patch_2\">\n    <path d=\"M 7.2 106.989543 \nL 78.434043 106.989543 \nL 78.434043 35.7555 \nL 7.2 35.7555 \nz\n\" style=\"fill: #ffffff\"/>\n   </g>\n   <g clip-path=\"url(#p1866d47c96)\">\n    <image xlink:href=\"data:image/png;base64,\niVBORw0KGgoAAAANSUhEUgAAAGMAAABjCAYAAACPO76VAAAFUUlEQVR4nO2cTW8bVRSGZzzjr9jGdtKGNCGhokQiTVlUgCLYgliCQIh/wF9gV6Fu+AFsoIsukLpCQqKiCBCLLlAF5UOiVLSkITSF0oakTXDs2I49H+zuue8NE0ol0rN4n9U5Pndmbv3mnnvmzNT+C/5rqUdUkHvQEyACxVAExVAExVAExVAExVAExVAExVAExVAExVAExVAExVAExVAExVAExVAExVAExVAExVAExVAExVAExVAExVAExVAExVAExVAExVAExVBEGE48DB9cPXHY2PlN1GowFouTT/BMQxnrl2MI1RpdYyepD7F8IGPjBK8XxeLncvhKcLW0Y+zUOWdvkAe/XBhmxjqdkszbuUbOFz+OcW5pqyDj+nj9gvW9Na/h91T94GsvC64MRVAMRVAMRfjHzp6ARPnV0+8b+621BRi8MagYu5bvQ+xQoWXsX3sHILb4l+xL4yNtiIW+s/dYRKn8rfRjzPU7UfiP4zzP87pDHAvHDUPwO9uyZwShk9/Lsi8drHQg1ij0jO1+Fz1rruVgCLHj1d+M/e6plyHGlaEIiqEI/9nP34Q0NT9629gXPjwOg7tzsmzDYgQxu2SNu5gK9pLcLidzBSyJ83nxkwTLx2gYyFzycWbM8zwvsecT43lsgq5TvlpuUsFrFOryXTRrXYi1tsvGLhcHEHv18CVjz5VuQYwrQxEUQxEUQxHhHytYhp6cPWvsL+aOQqxckxJuZ6UGseId0TXFlO31D0m+TZ02Smqn8z7uNbD3OHuGnfv99RKEigOn5YLVNBBJte6V17AdYv874gKWy2kofrtUxanV5Dyb41janguPGfv6KH73XBmKoBiKCB/9GJfm8y9JSglXCxCLboqfNDHddI9ICRe0MN2ELdE8KWIKiSvZd+DBthwX9PC4xMoag7rTbcVq0ktzcmxSwLFDK6UkIf5t5jDD4PWLYkdlJ72F4hdWMb35UxK7/N6TeL3sy5H9hmIogmIoIhzUsA493ZowdjS5A7HZqTVjzzVWIXZta9zY1Twed6tTF3txHGL1n2R/cRu4fiL5tT+Ge0ZodSCKK3jcThPH2m2NwHkqZ/v2/uF5nhdXZULu0zx7DyvdwdhDN+Q8I7exoxu+Le2mpLsMMa4MRVAMRVAMRYTFTWyFX+4+Yuyc8+RrtS0tkOsXpyEWWC0It87vPiYfPPPUEsRqC7K/nP92HmLFCdkY0qvYcihuWrm+6uwnPXC93kHJ4cNRpxXelJyeW6pA7MAFOe/olzchFv2O/r2SfVfFlaEKiqGIsHxxKTMYd/BWfuScdEenvl/HwX+KH7e2IOQHUj63n3gcYt+90TB2cXIbj7skaXHuRZzn4mezxnbbIY35u+C3bzSNXV3GVs30J5Km4is/ellEmRHP80PnyWZgt3sxLaZR9pm4MhRBMRRBMRThuz8yvPXpEWPnT43B4PJH3/yvkwnOT4K/+MOMsXPO0zu7VeG+oF1ax7FTZ36W4+5uZF7fzf2pk+/vmfT+freZK0MRFEMRoftB43XpzCbtZTdsyNXwhYS018sYiexV2m2cngE/XbCewjljK5PylsH0O3jLHy/+gv4e89lVlsIE9vdn4rkyFEExFEExFLErYSbtPd74uo9x/4X6Gfz/bu2Z54zdP4p70uQrV4z9rwWob5W6zj6w1x6233BlKIJiKGLXHTh5cHBlKIJiKIJiKIJiKIJiKIJiKIJiKIJiKIJiKIJiKIJiKIJiKIJiKIJiKIJiKIJiKIJiKIJiKIJiKIJiKIJiKIJiKIJiKIJiKIJiKIJiKIJiKIJiKIJiKIJiKIJiKOJv/fRtiyaMmuMAAAAASUVORK5CYII=\" id=\"image0a852bc01a\" transform=\"scale(1 -1) translate(0 -71.28)\" x=\"7.2\" y=\"-35.709543\" width=\"71.28\" height=\"71.28\"/>\n   </g>\n   <g id=\"patch_3\">\n    <path d=\"M 7.2 106.989543 \nL 7.2 35.7555 \n\" style=\"fill: none; stroke: #000000; stroke-width: 0.8; stroke-linejoin: miter; stroke-linecap: square\"/>\n   </g>\n   <g id=\"patch_4\">\n    <path d=\"M 78.434043 106.989543 \nL 78.434043 35.7555 \n\" style=\"fill: none; stroke: #000000; stroke-width: 0.8; stroke-linejoin: miter; stroke-linecap: square\"/>\n   </g>\n   <g id=\"patch_5\">\n    <path d=\"M 7.2 106.989543 \nL 78.434043 106.989543 \n\" style=\"fill: none; stroke: #000000; stroke-width: 0.8; stroke-linejoin: miter; stroke-linecap: square\"/>\n   </g>\n   <g id=\"patch_6\">\n    <path d=\"M 7.2 35.7555 \nL 78.434043 35.7555 \n\" style=\"fill: none; stroke: #000000; stroke-width: 0.8; stroke-linejoin: miter; stroke-linecap: square\"/>\n   </g>\n   <g id=\"text_1\">\n    <!-- c: sneaker -->\n    <g transform=\"translate(11.877646 16.318125) scale(0.12 -0.12)\">\n     <defs>\n      <path id=\"DejaVuSans-63\" d=\"M 3122 3366 \nL 3122 2828 \nQ 2878 2963 2633 3030 \nQ 2388 3097 2138 3097 \nQ 1578 3097 1268 2742 \nQ 959 2388 959 1747 \nQ 959 1106 1268 751 \nQ 1578 397 2138 397 \nQ 2388 397 2633 464 \nQ 2878 531 3122 666 \nL 3122 134 \nQ 2881 22 2623 -34 \nQ 2366 -91 2075 -91 \nQ 1284 -91 818 406 \nQ 353 903 353 1747 \nQ 353 2603 823 3093 \nQ 1294 3584 2113 3584 \nQ 2378 3584 2631 3529 \nQ 2884 3475 3122 3366 \nz\n\" transform=\"scale(0.015625)\"/>\n      <path id=\"DejaVuSans-3a\" d=\"M 750 794 \nL 1409 794 \nL 1409 0 \nL 750 0 \nL 750 794 \nz\nM 750 3309 \nL 1409 3309 \nL 1409 2516 \nL 750 2516 \nL 750 3309 \nz\n\" transform=\"scale(0.015625)\"/>\n      <path id=\"DejaVuSans-20\" transform=\"scale(0.015625)\"/>\n      <path id=\"DejaVuSans-73\" d=\"M 2834 3397 \nL 2834 2853 \nQ 2591 2978 2328 3040 \nQ 2066 3103 1784 3103 \nQ 1356 3103 1142 2972 \nQ 928 2841 928 2578 \nQ 928 2378 1081 2264 \nQ 1234 2150 1697 2047 \nL 1894 2003 \nQ 2506 1872 2764 1633 \nQ 3022 1394 3022 966 \nQ 3022 478 2636 193 \nQ 2250 -91 1575 -91 \nQ 1294 -91 989 -36 \nQ 684 19 347 128 \nL 347 722 \nQ 666 556 975 473 \nQ 1284 391 1588 391 \nQ 1994 391 2212 530 \nQ 2431 669 2431 922 \nQ 2431 1156 2273 1281 \nQ 2116 1406 1581 1522 \nL 1381 1569 \nQ 847 1681 609 1914 \nQ 372 2147 372 2553 \nQ 372 3047 722 3315 \nQ 1072 3584 1716 3584 \nQ 2034 3584 2315 3537 \nQ 2597 3491 2834 3397 \nz\n\" transform=\"scale(0.015625)\"/>\n      <path id=\"DejaVuSans-6e\" d=\"M 3513 2113 \nL 3513 0 \nL 2938 0 \nL 2938 2094 \nQ 2938 2591 2744 2837 \nQ 2550 3084 2163 3084 \nQ 1697 3084 1428 2787 \nQ 1159 2491 1159 1978 \nL 1159 0 \nL 581 0 \nL 581 3500 \nL 1159 3500 \nL 1159 2956 \nQ 1366 3272 1645 3428 \nQ 1925 3584 2291 3584 \nQ 2894 3584 3203 3211 \nQ 3513 2838 3513 2113 \nz\n\" transform=\"scale(0.015625)\"/>\n      <path id=\"DejaVuSans-65\" d=\"M 3597 1894 \nL 3597 1613 \nL 953 1613 \nQ 991 1019 1311 708 \nQ 1631 397 2203 397 \nQ 2534 397 2845 478 \nQ 3156 559 3463 722 \nL 3463 178 \nQ 3153 47 2828 -22 \nQ 2503 -91 2169 -91 \nQ 1331 -91 842 396 \nQ 353 884 353 1716 \nQ 353 2575 817 3079 \nQ 1281 3584 2069 3584 \nQ 2775 3584 3186 3129 \nQ 3597 2675 3597 1894 \nz\nM 3022 2063 \nQ 3016 2534 2758 2815 \nQ 2500 3097 2075 3097 \nQ 1594 3097 1305 2825 \nQ 1016 2553 972 2059 \nL 3022 2063 \nz\n\" transform=\"scale(0.015625)\"/>\n      <path id=\"DejaVuSans-61\" d=\"M 2194 1759 \nQ 1497 1759 1228 1600 \nQ 959 1441 959 1056 \nQ 959 750 1161 570 \nQ 1363 391 1709 391 \nQ 2188 391 2477 730 \nQ 2766 1069 2766 1631 \nL 2766 1759 \nL 2194 1759 \nz\nM 3341 1997 \nL 3341 0 \nL 2766 0 \nL 2766 531 \nQ 2569 213 2275 61 \nQ 1981 -91 1556 -91 \nQ 1019 -91 701 211 \nQ 384 513 384 1019 \nQ 384 1609 779 1909 \nQ 1175 2209 1959 2209 \nL 2766 2209 \nL 2766 2266 \nQ 2766 2663 2505 2880 \nQ 2244 3097 1772 3097 \nQ 1472 3097 1187 3025 \nQ 903 2953 641 2809 \nL 641 3341 \nQ 956 3463 1253 3523 \nQ 1550 3584 1831 3584 \nQ 2591 3584 2966 3190 \nQ 3341 2797 3341 1997 \nz\n\" transform=\"scale(0.015625)\"/>\n      <path id=\"DejaVuSans-6b\" d=\"M 581 4863 \nL 1159 4863 \nL 1159 1991 \nL 2875 3500 \nL 3609 3500 \nL 1753 1863 \nL 3688 0 \nL 2938 0 \nL 1159 1709 \nL 1159 0 \nL 581 0 \nL 581 4863 \nz\n\" transform=\"scale(0.015625)\"/>\n      <path id=\"DejaVuSans-72\" d=\"M 2631 2963 \nQ 2534 3019 2420 3045 \nQ 2306 3072 2169 3072 \nQ 1681 3072 1420 2755 \nQ 1159 2438 1159 1844 \nL 1159 0 \nL 581 0 \nL 581 3500 \nL 1159 3500 \nL 1159 2956 \nQ 1341 3275 1631 3429 \nQ 1922 3584 2338 3584 \nQ 2397 3584 2469 3576 \nQ 2541 3569 2628 3553 \nL 2631 2963 \nz\n\" transform=\"scale(0.015625)\"/>\n     </defs>\n     <use xlink:href=\"#DejaVuSans-63\"/>\n     <use xlink:href=\"#DejaVuSans-3a\" x=\"54.980469\"/>\n     <use xlink:href=\"#DejaVuSans-20\" x=\"88.671875\"/>\n     <use xlink:href=\"#DejaVuSans-73\" x=\"120.458984\"/>\n     <use xlink:href=\"#DejaVuSans-6e\" x=\"172.558594\"/>\n     <use xlink:href=\"#DejaVuSans-65\" x=\"235.9375\"/>\n     <use xlink:href=\"#DejaVuSans-61\" x=\"297.460938\"/>\n     <use xlink:href=\"#DejaVuSans-6b\" x=\"358.740234\"/>\n     <use xlink:href=\"#DejaVuSans-65\" x=\"413.025391\"/>\n     <use xlink:href=\"#DejaVuSans-72\" x=\"474.548828\"/>\n    </g>\n    <!-- un: sandal -->\n    <g transform=\"translate(11.526084 29.7555) scale(0.12 -0.12)\">\n     <defs>\n      <path id=\"DejaVuSans-75\" d=\"M 544 1381 \nL 544 3500 \nL 1119 3500 \nL 1119 1403 \nQ 1119 906 1312 657 \nQ 1506 409 1894 409 \nQ 2359 409 2629 706 \nQ 2900 1003 2900 1516 \nL 2900 3500 \nL 3475 3500 \nL 3475 0 \nL 2900 0 \nL 2900 538 \nQ 2691 219 2414 64 \nQ 2138 -91 1772 -91 \nQ 1169 -91 856 284 \nQ 544 659 544 1381 \nz\nM 1991 3584 \nL 1991 3584 \nz\n\" transform=\"scale(0.015625)\"/>\n      <path id=\"DejaVuSans-64\" d=\"M 2906 2969 \nL 2906 4863 \nL 3481 4863 \nL 3481 0 \nL 2906 0 \nL 2906 525 \nQ 2725 213 2448 61 \nQ 2172 -91 1784 -91 \nQ 1150 -91 751 415 \nQ 353 922 353 1747 \nQ 353 2572 751 3078 \nQ 1150 3584 1784 3584 \nQ 2172 3584 2448 3432 \nQ 2725 3281 2906 2969 \nz\nM 947 1747 \nQ 947 1113 1208 752 \nQ 1469 391 1925 391 \nQ 2381 391 2643 752 \nQ 2906 1113 2906 1747 \nQ 2906 2381 2643 2742 \nQ 2381 3103 1925 3103 \nQ 1469 3103 1208 2742 \nQ 947 2381 947 1747 \nz\n\" transform=\"scale(0.015625)\"/>\n      <path id=\"DejaVuSans-6c\" d=\"M 603 4863 \nL 1178 4863 \nL 1178 0 \nL 603 0 \nL 603 4863 \nz\n\" transform=\"scale(0.015625)\"/>\n     </defs>\n     <use xlink:href=\"#DejaVuSans-75\"/>\n     <use xlink:href=\"#DejaVuSans-6e\" x=\"63.378906\"/>\n     <use xlink:href=\"#DejaVuSans-3a\" x=\"126.757812\"/>\n     <use xlink:href=\"#DejaVuSans-20\" x=\"160.449219\"/>\n     <use xlink:href=\"#DejaVuSans-73\" x=\"192.236328\"/>\n     <use xlink:href=\"#DejaVuSans-61\" x=\"244.335938\"/>\n     <use xlink:href=\"#DejaVuSans-6e\" x=\"305.615234\"/>\n     <use xlink:href=\"#DejaVuSans-64\" x=\"368.994141\"/>\n     <use xlink:href=\"#DejaVuSans-61\" x=\"432.470703\"/>\n     <use xlink:href=\"#DejaVuSans-6c\" x=\"493.75\"/>\n    </g>\n   </g>\n  </g>\n  <g id=\"axes_2\">\n   <g id=\"patch_7\">\n    <path d=\"M 92.680851 106.989543 \nL 163.914894 106.989543 \nL 163.914894 35.7555 \nL 92.680851 35.7555 \nz\n\" style=\"fill: #ffffff\"/>\n   </g>\n   <g clip-path=\"url(#p8f8799a4bd)\">\n    <image xlink:href=\"data:image/png;base64,\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\" id=\"imageb0833fa6b2\" transform=\"scale(1 -1) translate(0 -71.28)\" x=\"92.680851\" y=\"-35.709543\" width=\"71.28\" height=\"71.28\"/>\n   </g>\n   <g id=\"patch_8\">\n    <path d=\"M 92.680851 106.989543 \nL 92.680851 35.7555 \n\" style=\"fill: none; stroke: #000000; stroke-width: 0.8; stroke-linejoin: miter; stroke-linecap: square\"/>\n   </g>\n   <g id=\"patch_9\">\n    <path d=\"M 163.914894 106.989543 \nL 163.914894 35.7555 \n\" style=\"fill: none; stroke: #000000; stroke-width: 0.8; stroke-linejoin: miter; stroke-linecap: square\"/>\n   </g>\n   <g id=\"patch_10\">\n    <path d=\"M 92.680851 106.989543 \nL 163.914894 106.989543 \n\" style=\"fill: none; stroke: #000000; stroke-width: 0.8; stroke-linejoin: miter; stroke-linecap: square\"/>\n   </g>\n   <g id=\"patch_11\">\n    <path d=\"M 92.680851 35.7555 \nL 163.914894 35.7555 \n\" style=\"fill: none; stroke: #000000; stroke-width: 0.8; stroke-linejoin: miter; stroke-linecap: square\"/>\n   </g>\n   <g id=\"text_2\">\n    <!-- c: sandal -->\n    <g transform=\"translate(101.312872 16.318125) scale(0.12 -0.12)\">\n     <use xlink:href=\"#DejaVuSans-63\"/>\n     <use xlink:href=\"#DejaVuSans-3a\" x=\"54.980469\"/>\n     <use xlink:href=\"#DejaVuSans-20\" x=\"88.671875\"/>\n     <use xlink:href=\"#DejaVuSans-73\" x=\"120.458984\"/>\n     <use xlink:href=\"#DejaVuSans-61\" x=\"172.558594\"/>\n     <use xlink:href=\"#DejaVuSans-6e\" x=\"233.837891\"/>\n     <use xlink:href=\"#DejaVuSans-64\" x=\"297.216797\"/>\n     <use xlink:href=\"#DejaVuSans-61\" x=\"360.693359\"/>\n     <use xlink:href=\"#DejaVuSans-6c\" x=\"421.972656\"/>\n    </g>\n    <!-- un: sneaker -->\n    <g transform=\"translate(93.05256 29.7555) scale(0.12 -0.12)\">\n     <use xlink:href=\"#DejaVuSans-75\"/>\n     <use xlink:href=\"#DejaVuSans-6e\" x=\"63.378906\"/>\n     <use xlink:href=\"#DejaVuSans-3a\" x=\"126.757812\"/>\n     <use xlink:href=\"#DejaVuSans-20\" x=\"160.449219\"/>\n     <use xlink:href=\"#DejaVuSans-73\" x=\"192.236328\"/>\n     <use xlink:href=\"#DejaVuSans-6e\" x=\"244.335938\"/>\n     <use xlink:href=\"#DejaVuSans-65\" x=\"307.714844\"/>\n     <use xlink:href=\"#DejaVuSans-61\" x=\"369.238281\"/>\n     <use xlink:href=\"#DejaVuSans-6b\" x=\"430.517578\"/>\n     <use xlink:href=\"#DejaVuSans-65\" x=\"484.802734\"/>\n     <use xlink:href=\"#DejaVuSans-72\" x=\"546.326172\"/>\n    </g>\n   </g>\n  </g>\n  <g id=\"axes_3\">\n   <g id=\"patch_12\">\n    <path d=\"M 178.161702 106.989543 \nL 249.395745 106.989543 \nL 249.395745 35.7555 \nL 178.161702 35.7555 \nz\n\" style=\"fill: #ffffff\"/>\n   </g>\n   <g clip-path=\"url(#pfb5d4fccdc)\">\n    <image xlink:href=\"data:image/png;base64,\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\" id=\"image5dc50a7af1\" transform=\"scale(1 -1) translate(0 -71.28)\" x=\"178.161702\" y=\"-35.709543\" width=\"71.28\" height=\"71.28\"/>\n   </g>\n   <g id=\"patch_13\">\n    <path d=\"M 178.161702 106.989543 \nL 178.161702 35.7555 \n\" style=\"fill: none; stroke: #000000; stroke-width: 0.8; stroke-linejoin: miter; stroke-linecap: square\"/>\n   </g>\n   <g id=\"patch_14\">\n    <path d=\"M 249.395745 106.989543 \nL 249.395745 35.7555 \n\" style=\"fill: none; stroke: #000000; stroke-width: 0.8; stroke-linejoin: miter; stroke-linecap: square\"/>\n   </g>\n   <g id=\"patch_15\">\n    <path d=\"M 178.161702 106.989543 \nL 249.395745 106.989543 \n\" style=\"fill: none; stroke: #000000; stroke-width: 0.8; stroke-linejoin: miter; stroke-linecap: square\"/>\n   </g>\n   <g id=\"patch_16\">\n    <path d=\"M 178.161702 35.7555 \nL 249.395745 35.7555 \n\" style=\"fill: none; stroke: #000000; stroke-width: 0.8; stroke-linejoin: miter; stroke-linecap: square\"/>\n   </g>\n   <g id=\"text_3\">\n    <!-- c: ankle boot -->\n    <g transform=\"translate(174.828411 16.318125) scale(0.12 -0.12)\">\n     <defs>\n      <path id=\"DejaVuSans-62\" d=\"M 3116 1747 \nQ 3116 2381 2855 2742 \nQ 2594 3103 2138 3103 \nQ 1681 3103 1420 2742 \nQ 1159 2381 1159 1747 \nQ 1159 1113 1420 752 \nQ 1681 391 2138 391 \nQ 2594 391 2855 752 \nQ 3116 1113 3116 1747 \nz\nM 1159 2969 \nQ 1341 3281 1617 3432 \nQ 1894 3584 2278 3584 \nQ 2916 3584 3314 3078 \nQ 3713 2572 3713 1747 \nQ 3713 922 3314 415 \nQ 2916 -91 2278 -91 \nQ 1894 -91 1617 61 \nQ 1341 213 1159 525 \nL 1159 0 \nL 581 0 \nL 581 4863 \nL 1159 4863 \nL 1159 2969 \nz\n\" transform=\"scale(0.015625)\"/>\n      <path id=\"DejaVuSans-6f\" d=\"M 1959 3097 \nQ 1497 3097 1228 2736 \nQ 959 2375 959 1747 \nQ 959 1119 1226 758 \nQ 1494 397 1959 397 \nQ 2419 397 2687 759 \nQ 2956 1122 2956 1747 \nQ 2956 2369 2687 2733 \nQ 2419 3097 1959 3097 \nz\nM 1959 3584 \nQ 2709 3584 3137 3096 \nQ 3566 2609 3566 1747 \nQ 3566 888 3137 398 \nQ 2709 -91 1959 -91 \nQ 1206 -91 779 398 \nQ 353 888 353 1747 \nQ 353 2609 779 3096 \nQ 1206 3584 1959 3584 \nz\n\" transform=\"scale(0.015625)\"/>\n      <path id=\"DejaVuSans-74\" d=\"M 1172 4494 \nL 1172 3500 \nL 2356 3500 \nL 2356 3053 \nL 1172 3053 \nL 1172 1153 \nQ 1172 725 1289 603 \nQ 1406 481 1766 481 \nL 2356 481 \nL 2356 0 \nL 1766 0 \nQ 1100 0 847 248 \nQ 594 497 594 1153 \nL 594 3053 \nL 172 3053 \nL 172 3500 \nL 594 3500 \nL 594 4494 \nL 1172 4494 \nz\n\" transform=\"scale(0.015625)\"/>\n     </defs>\n     <use xlink:href=\"#DejaVuSans-63\"/>\n     <use xlink:href=\"#DejaVuSans-3a\" x=\"54.980469\"/>\n     <use xlink:href=\"#DejaVuSans-20\" x=\"88.671875\"/>\n     <use xlink:href=\"#DejaVuSans-61\" x=\"120.458984\"/>\n     <use xlink:href=\"#DejaVuSans-6e\" x=\"181.738281\"/>\n     <use xlink:href=\"#DejaVuSans-6b\" x=\"245.117188\"/>\n     <use xlink:href=\"#DejaVuSans-6c\" x=\"303.027344\"/>\n     <use xlink:href=\"#DejaVuSans-65\" x=\"330.810547\"/>\n     <use xlink:href=\"#DejaVuSans-20\" x=\"392.333984\"/>\n     <use xlink:href=\"#DejaVuSans-62\" x=\"424.121094\"/>\n     <use xlink:href=\"#DejaVuSans-6f\" x=\"487.597656\"/>\n     <use xlink:href=\"#DejaVuSans-6f\" x=\"548.779297\"/>\n     <use xlink:href=\"#DejaVuSans-74\" x=\"609.960938\"/>\n    </g>\n    <!-- un: sneaker -->\n    <g transform=\"translate(178.533411 29.7555) scale(0.12 -0.12)\">\n     <use xlink:href=\"#DejaVuSans-75\"/>\n     <use xlink:href=\"#DejaVuSans-6e\" x=\"63.378906\"/>\n     <use xlink:href=\"#DejaVuSans-3a\" x=\"126.757812\"/>\n     <use xlink:href=\"#DejaVuSans-20\" x=\"160.449219\"/>\n     <use xlink:href=\"#DejaVuSans-73\" x=\"192.236328\"/>\n     <use xlink:href=\"#DejaVuSans-6e\" x=\"244.335938\"/>\n     <use xlink:href=\"#DejaVuSans-65\" x=\"307.714844\"/>\n     <use xlink:href=\"#DejaVuSans-61\" x=\"369.238281\"/>\n     <use xlink:href=\"#DejaVuSans-6b\" x=\"430.517578\"/>\n     <use xlink:href=\"#DejaVuSans-65\" x=\"484.802734\"/>\n     <use xlink:href=\"#DejaVuSans-72\" x=\"546.326172\"/>\n    </g>\n   </g>\n  </g>\n  <g id=\"axes_4\">\n   <g id=\"patch_17\">\n    <path d=\"M 263.642553 106.989543 \nL 334.876596 106.989543 \nL 334.876596 35.7555 \nL 263.642553 35.7555 \nz\n\" style=\"fill: #ffffff\"/>\n   </g>\n   <g clip-path=\"url(#p55ff2a6b4a)\">\n    <image xlink:href=\"data:image/png;base64,\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\" id=\"imageed5b05157a\" transform=\"scale(1 -1) translate(0 -71.28)\" x=\"263.642553\" y=\"-35.709543\" width=\"71.28\" height=\"71.28\"/>\n   </g>\n   <g id=\"patch_18\">\n    <path d=\"M 263.642553 106.989543 \nL 263.642553 35.7555 \n\" style=\"fill: none; stroke: #000000; stroke-width: 0.8; stroke-linejoin: miter; stroke-linecap: square\"/>\n   </g>\n   <g id=\"patch_19\">\n    <path d=\"M 334.876596 106.989543 \nL 334.876596 35.7555 \n\" style=\"fill: none; stroke: #000000; stroke-width: 0.8; stroke-linejoin: miter; stroke-linecap: square\"/>\n   </g>\n   <g id=\"patch_20\">\n    <path d=\"M 263.642553 106.989543 \nL 334.876596 106.989543 \n\" style=\"fill: none; stroke: #000000; stroke-width: 0.8; stroke-linejoin: miter; stroke-linecap: square\"/>\n   </g>\n   <g id=\"patch_21\">\n    <path d=\"M 263.642553 35.7555 \nL 334.876596 35.7555 \n\" style=\"fill: none; stroke: #000000; stroke-width: 0.8; stroke-linejoin: miter; stroke-linecap: square\"/>\n   </g>\n   <g id=\"text_4\">\n    <!-- c: coat -->\n    <g transform=\"translate(279.033012 16.318125) scale(0.12 -0.12)\">\n     <use xlink:href=\"#DejaVuSans-63\"/>\n     <use xlink:href=\"#DejaVuSans-3a\" x=\"54.980469\"/>\n     <use xlink:href=\"#DejaVuSans-20\" x=\"88.671875\"/>\n     <use xlink:href=\"#DejaVuSans-63\" x=\"120.458984\"/>\n     <use xlink:href=\"#DejaVuSans-6f\" x=\"175.439453\"/>\n     <use xlink:href=\"#DejaVuSans-61\" x=\"236.621094\"/>\n     <use xlink:href=\"#DejaVuSans-74\" x=\"297.900391\"/>\n    </g>\n    <!-- un: pullover -->\n    <g transform=\"translate(263.400199 29.7555) scale(0.12 -0.12)\">\n     <defs>\n      <path id=\"DejaVuSans-70\" d=\"M 1159 525 \nL 1159 -1331 \nL 581 -1331 \nL 581 3500 \nL 1159 3500 \nL 1159 2969 \nQ 1341 3281 1617 3432 \nQ 1894 3584 2278 3584 \nQ 2916 3584 3314 3078 \nQ 3713 2572 3713 1747 \nQ 3713 922 3314 415 \nQ 2916 -91 2278 -91 \nQ 1894 -91 1617 61 \nQ 1341 213 1159 525 \nz\nM 3116 1747 \nQ 3116 2381 2855 2742 \nQ 2594 3103 2138 3103 \nQ 1681 3103 1420 2742 \nQ 1159 2381 1159 1747 \nQ 1159 1113 1420 752 \nQ 1681 391 2138 391 \nQ 2594 391 2855 752 \nQ 3116 1113 3116 1747 \nz\n\" transform=\"scale(0.015625)\"/>\n      <path id=\"DejaVuSans-76\" d=\"M 191 3500 \nL 800 3500 \nL 1894 563 \nL 2988 3500 \nL 3597 3500 \nL 2284 0 \nL 1503 0 \nL 191 3500 \nz\n\" transform=\"scale(0.015625)\"/>\n     </defs>\n     <use xlink:href=\"#DejaVuSans-75\"/>\n     <use xlink:href=\"#DejaVuSans-6e\" x=\"63.378906\"/>\n     <use xlink:href=\"#DejaVuSans-3a\" x=\"126.757812\"/>\n     <use xlink:href=\"#DejaVuSans-20\" x=\"160.449219\"/>\n     <use xlink:href=\"#DejaVuSans-70\" x=\"192.236328\"/>\n     <use xlink:href=\"#DejaVuSans-75\" x=\"255.712891\"/>\n     <use xlink:href=\"#DejaVuSans-6c\" x=\"319.091797\"/>\n     <use xlink:href=\"#DejaVuSans-6c\" x=\"346.875\"/>\n     <use xlink:href=\"#DejaVuSans-6f\" x=\"374.658203\"/>\n     <use xlink:href=\"#DejaVuSans-76\" x=\"435.839844\"/>\n     <use xlink:href=\"#DejaVuSans-65\" x=\"495.019531\"/>\n     <use xlink:href=\"#DejaVuSans-72\" x=\"556.542969\"/>\n    </g>\n   </g>\n  </g>\n  <g id=\"axes_5\">\n   <g id=\"patch_22\">\n    <path d=\"M 349.123404 106.989543 \nL 420.357447 106.989543 \nL 420.357447 35.7555 \nL 349.123404 35.7555 \nz\n\" style=\"fill: #ffffff\"/>\n   </g>\n   <g clip-path=\"url(#p4d4013185b)\">\n    <image xlink:href=\"data:image/png;base64,\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\" id=\"image60c0187808\" transform=\"scale(1 -1) translate(0 -71.28)\" x=\"349.123404\" y=\"-35.709543\" width=\"71.28\" height=\"71.28\"/>\n   </g>\n   <g id=\"patch_23\">\n    <path d=\"M 349.123404 106.989543 \nL 349.123404 35.7555 \n\" style=\"fill: none; stroke: #000000; stroke-width: 0.8; stroke-linejoin: miter; stroke-linecap: square\"/>\n   </g>\n   <g id=\"patch_24\">\n    <path d=\"M 420.357447 106.989543 \nL 420.357447 35.7555 \n\" style=\"fill: none; stroke: #000000; stroke-width: 0.8; stroke-linejoin: miter; stroke-linecap: square\"/>\n   </g>\n   <g id=\"patch_25\">\n    <path d=\"M 349.123404 106.989543 \nL 420.357447 106.989543 \n\" style=\"fill: none; stroke: #000000; stroke-width: 0.8; stroke-linejoin: miter; stroke-linecap: square\"/>\n   </g>\n   <g id=\"patch_26\">\n    <path d=\"M 349.123404 35.7555 \nL 420.357447 35.7555 \n\" style=\"fill: none; stroke: #000000; stroke-width: 0.8; stroke-linejoin: miter; stroke-linecap: square\"/>\n   </g>\n   <g id=\"text_5\">\n    <!-- c: t-shirt -->\n    <g transform=\"translate(359.582613 16.318125) scale(0.12 -0.12)\">\n     <defs>\n      <path id=\"DejaVuSans-2d\" d=\"M 313 2009 \nL 1997 2009 \nL 1997 1497 \nL 313 1497 \nL 313 2009 \nz\n\" transform=\"scale(0.015625)\"/>\n      <path id=\"DejaVuSans-68\" d=\"M 3513 2113 \nL 3513 0 \nL 2938 0 \nL 2938 2094 \nQ 2938 2591 2744 2837 \nQ 2550 3084 2163 3084 \nQ 1697 3084 1428 2787 \nQ 1159 2491 1159 1978 \nL 1159 0 \nL 581 0 \nL 581 4863 \nL 1159 4863 \nL 1159 2956 \nQ 1366 3272 1645 3428 \nQ 1925 3584 2291 3584 \nQ 2894 3584 3203 3211 \nQ 3513 2838 3513 2113 \nz\n\" transform=\"scale(0.015625)\"/>\n      <path id=\"DejaVuSans-69\" d=\"M 603 3500 \nL 1178 3500 \nL 1178 0 \nL 603 0 \nL 603 3500 \nz\nM 603 4863 \nL 1178 4863 \nL 1178 4134 \nL 603 4134 \nL 603 4863 \nz\n\" transform=\"scale(0.015625)\"/>\n     </defs>\n     <use xlink:href=\"#DejaVuSans-63\"/>\n     <use xlink:href=\"#DejaVuSans-3a\" x=\"54.980469\"/>\n     <use xlink:href=\"#DejaVuSans-20\" x=\"88.671875\"/>\n     <use xlink:href=\"#DejaVuSans-74\" x=\"120.458984\"/>\n     <use xlink:href=\"#DejaVuSans-2d\" x=\"159.667969\"/>\n     <use xlink:href=\"#DejaVuSans-73\" x=\"195.751953\"/>\n     <use xlink:href=\"#DejaVuSans-68\" x=\"247.851562\"/>\n     <use xlink:href=\"#DejaVuSans-69\" x=\"311.230469\"/>\n     <use xlink:href=\"#DejaVuSans-72\" x=\"339.013672\"/>\n     <use xlink:href=\"#DejaVuSans-74\" x=\"380.126953\"/>\n    </g>\n    <!-- un: dress -->\n    <g transform=\"translate(357.123551 29.7555) scale(0.12 -0.12)\">\n     <use xlink:href=\"#DejaVuSans-75\"/>\n     <use xlink:href=\"#DejaVuSans-6e\" x=\"63.378906\"/>\n     <use xlink:href=\"#DejaVuSans-3a\" x=\"126.757812\"/>\n     <use xlink:href=\"#DejaVuSans-20\" x=\"160.449219\"/>\n     <use xlink:href=\"#DejaVuSans-64\" x=\"192.236328\"/>\n     <use xlink:href=\"#DejaVuSans-72\" x=\"255.712891\"/>\n     <use xlink:href=\"#DejaVuSans-65\" x=\"294.576172\"/>\n     <use xlink:href=\"#DejaVuSans-73\" x=\"356.099609\"/>\n     <use xlink:href=\"#DejaVuSans-73\" x=\"408.199219\"/>\n    </g>\n   </g>\n  </g>\n  <g id=\"axes_6\">\n   <g id=\"patch_27\">\n    <path d=\"M 434.604255 106.989543 \nL 505.838298 106.989543 \nL 505.838298 35.7555 \nL 434.604255 35.7555 \nz\n\" style=\"fill: #ffffff\"/>\n   </g>\n   <g clip-path=\"url(#p0d8df81452)\">\n    <image xlink:href=\"data:image/png;base64,\niVBORw0KGgoAAAANSUhEUgAAAGMAAABjCAYAAACPO76VAAAHiklEQVR4nO2d22tcZRDAv7N7zu52k2azSZM2phebXmwClYItVqkUtFJ8ER9qffClFHwSRPwDBEGh0Af9D0RQn/okWlSwWgulYqXWVKVNb2mbGLO5Npvdzbmtb99cZNdadg9DM7+n+Ziz2U0m38zsnPnmOIecI3WTIO6mjWRdGdlg5VRAP0rm/O9WHnt/D9EVxhwrL22h7+E9cZ+sH3970crh3XtEN3f8GSv3XqavS0/Nw+smJk27SbX9HZQHRo0hCDWGINy2/NDBx8j61e8uWjmqTxFdd7pi5VK4lugOd1y18tnqTaI71jVt5fdKI0SXSwX0A50G8c3iKFF9U4GfezfoIbqgnrbyH2X6O03uXzKtRneGINQYgmiLm+Jp4JelJ618oOd6w9ddKm8m69fWjln59MxuohvJfm3lseX+pp9nIAep7XhI0+crVUi174c5outya1b+8fp2ottuLjV9z4dBd4Yg1BiCUGMIoi0xg/PLlSEr7zswTnR9LqSIpVon0ZVi8O8ph/r67pQPslclupQTk/VEtdvKNZSuGmNMml3bSNf/Vbbhda1Cd4Yg1BiCSMRNDZxFNj9AdcsxbH831dhlZFIhWZeiNVbmbmklpr+Wm4qsvBTT9HU+yFs5YC6s34MqbvHba0QXmdajO0MQagxBqDEEkUjMKHzxG8jvVohuEfl+l/n+hThj5bhO/28mwqKVO9Mr9HXBGrJOo7R4NmLpsw/rvkyZ6H5F5Zlods60G90ZglBjCCIRNxVXwDWdmdtFdHu6oEEgNg7RzSGXwtPXuRDr6LfzMKYpancW3A93U5UQXGF/J71h9NnHL1p5wJw37UZ3hiDUGIJQYwgikZiBufzDTrLe98ptK6cM9f0LEZQqsilagPg7KFg5jyq4xhjjs5iBmQ87GuoqKJU2xhgcwtLFIlFF8/Om1ejOEIQaQxCJuKmbn++x8ks7LxLdxAps/2yaVmanQnBFHnNT5Qiqvfk0dVMc/O2duyJcKZ5a6SK6d944ZeUTTx8mui1H1U090qgxBKHGEEQiMWN4EPprix6t2pZD8P38bl4FxQWe9sZ1yDsDlsrmWOzBpZRKRGOGH8Frt6ylldl7PvTexjdoGaUd6M4QhBpDEIm4qSUf3M1iSG/89HtQKV2JPaLDVdx/Nx3AtVnm3jg4teXNCpj13iJZ3/F7rVxP4N9Wd4Yg1BiCUGMIIpGYUcxCOotTUmOMuTC/1cpDnTNEV0NxgTckYHgc4O/R7Npb8xAXPpx5gehe3oqOnCVwQFt3hiDUGIJIxE3VInA3nkOrr6NjcIyrc5j2P+XzjauxOO3lPbIc3EfFjw/4F+BbdnVXjehwo0OTkwMtQ3eGINQYglBjCCKRmFH2Gx/Byt2DKupo7wDR7RiCKQgBS2095MR52sub2nCqyxvluq+jGLaXxix8jMytNE6XW4XuDEGoMQShxhBEIjGjGsD3jIjZP06Df19epOV1fHfPZ2UMD3WE8DjAy+0x+h5SjWiZvtYDn+fg5htER+5C0up6W9CdIQg1hiCScVM+uAZ+dqK+HSq6LktJ/6vMYa+L+dQDdl6jybXVPnBxO/N0MNnt2jore+X2l211ZwhCjSEINYYgEokZlXLjckhfEbpDcGwxpvkdO1weCVk5hB9hDpzG/j4YgZi1I0tjxrQPjdAd0807UFqB7gxBqDEEkcwxsiWvoSrvBQ11zeDp64PCXVomC+9/c2U90eHJC5mFh/uc/wfdGYJQYwhCjSGIRGKGu9TY5sOFxmc38JQ0fnYDlzUilgK7LCMmVVwWM3Zv+MvKeMIPx52hE3d0EtsjjhpDEIm4qfwk+A2XHSEuuNBUts6lrqDkwyMceCrrOeC2eLrKby6F6LhxGNNrt3bMop9JP9tShIZLzujwr1WFGkMQagxBJBIzusbBv6cN9ee46aBZasmPHmMmlwtkva2LnvPocKF5IcsHT6I56c3GXujAyFWGGkMQibipzj8hfeRNBjidnA7o08jwt27eN+Wi1y2u0Pnm/Bs57pVal6Xp8x0fpvrgPiljeI+X3lxaVagxBKHGEEQiMSO6Bj2sCwGddoZHTfAGtyx6EiWPAx1ock53jp3TY/EFl0f4e+AJPHxcxsXSJisXTONH2rUK3RmCUGMIIvG5tjPsiWP4MQn3WWqZdqDaynuhvCapbXeWuq0COm485+eJDs/AzbIH9C5/D0/GVDe1ylBjCEKNIYi2xAzHo0MZ6wFUQysnB4mu9wQ9uoVpdj7j+nKflXMuLVX0ZGhjAy6reCz24DgxXqEPZx/8CAYiJzBUR3eGJNQYgnAOOUcSOB+F3E3MZpof3W/lwbfGiO5gDzw1Es9M57xe/ImsTy0+RdY3KnAcbFue3nj65NxzVh4+SR8qH47fhUWKucy49Z1TujMEocYQhBpDEMnEDAdVXB1m/ya+190IafDxM+eIrlaHCitvchjKTJP1p7PPWvnq3oc8Z+GwBt566/9sujMEocYQRHvcFN/SzS51wd3UQ+ZCkCsIn6fp6q1joMtdpVVbbx99BM/AB1BoqP88SnQ4ZXXSbHoDqhyom1plqDEEocYQxD9kSky00vD5lwAAAABJRU5ErkJggg==\" id=\"imagef17de26f14\" transform=\"scale(1 -1) translate(0 -71.28)\" x=\"434.604255\" y=\"-35.709543\" width=\"71.28\" height=\"71.28\"/>\n   </g>\n   <g id=\"patch_28\">\n    <path d=\"M 434.604255 106.989543 \nL 434.604255 35.7555 \n\" style=\"fill: none; stroke: #000000; stroke-width: 0.8; stroke-linejoin: miter; stroke-linecap: square\"/>\n   </g>\n   <g id=\"patch_29\">\n    <path d=\"M 505.838298 106.989543 \nL 505.838298 35.7555 \n\" style=\"fill: none; stroke: #000000; stroke-width: 0.8; stroke-linejoin: miter; stroke-linecap: square\"/>\n   </g>\n   <g id=\"patch_30\">\n    <path d=\"M 434.604255 106.989543 \nL 505.838298 106.989543 \n\" style=\"fill: none; stroke: #000000; stroke-width: 0.8; stroke-linejoin: miter; stroke-linecap: square\"/>\n   </g>\n   <g id=\"patch_31\">\n    <path d=\"M 434.604255 35.7555 \nL 505.838298 35.7555 \n\" style=\"fill: none; stroke: #000000; stroke-width: 0.8; stroke-linejoin: miter; stroke-linecap: square\"/>\n   </g>\n   <g id=\"text_6\">\n    <!-- c: dress -->\n    <g transform=\"translate(446.910339 16.318125) scale(0.12 -0.12)\">\n     <use xlink:href=\"#DejaVuSans-63\"/>\n     <use xlink:href=\"#DejaVuSans-3a\" x=\"54.980469\"/>\n     <use xlink:href=\"#DejaVuSans-20\" x=\"88.671875\"/>\n     <use xlink:href=\"#DejaVuSans-64\" x=\"120.458984\"/>\n     <use xlink:href=\"#DejaVuSans-72\" x=\"183.935547\"/>\n     <use xlink:href=\"#DejaVuSans-65\" x=\"222.798828\"/>\n     <use xlink:href=\"#DejaVuSans-73\" x=\"284.322266\"/>\n     <use xlink:href=\"#DejaVuSans-73\" x=\"336.421875\"/>\n    </g>\n    <!-- un: coat -->\n    <g transform=\"translate(445.688777 29.7555) scale(0.12 -0.12)\">\n     <use xlink:href=\"#DejaVuSans-75\"/>\n     <use xlink:href=\"#DejaVuSans-6e\" x=\"63.378906\"/>\n     <use xlink:href=\"#DejaVuSans-3a\" x=\"126.757812\"/>\n     <use xlink:href=\"#DejaVuSans-20\" x=\"160.449219\"/>\n     <use xlink:href=\"#DejaVuSans-63\" x=\"192.236328\"/>\n     <use xlink:href=\"#DejaVuSans-6f\" x=\"247.216797\"/>\n     <use xlink:href=\"#DejaVuSans-61\" x=\"308.398438\"/>\n     <use xlink:href=\"#DejaVuSans-74\" x=\"369.677734\"/>\n    </g>\n   </g>\n  </g>\n  <g id=\"axes_7\">\n   <g id=\"patch_32\">\n    <path d=\"M 520.085106 106.989543 \nL 591.319149 106.989543 \nL 591.319149 35.7555 \nL 520.085106 35.7555 \nz\n\" style=\"fill: #ffffff\"/>\n   </g>\n   <g clip-path=\"url(#p18728589e0)\">\n    <image xlink:href=\"data:image/png;base64,\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\" id=\"imagead2003cf59\" transform=\"scale(1 -1) translate(0 -71.28)\" x=\"520.085106\" y=\"-35.709543\" width=\"71.28\" height=\"71.28\"/>\n   </g>\n   <g id=\"patch_33\">\n    <path d=\"M 520.085106 106.989543 \nL 520.085106 35.7555 \n\" style=\"fill: none; stroke: #000000; stroke-width: 0.8; stroke-linejoin: miter; stroke-linecap: square\"/>\n   </g>\n   <g id=\"patch_34\">\n    <path d=\"M 591.319149 106.989543 \nL 591.319149 35.7555 \n\" style=\"fill: none; stroke: #000000; stroke-width: 0.8; stroke-linejoin: miter; stroke-linecap: square\"/>\n   </g>\n   <g id=\"patch_35\">\n    <path d=\"M 520.085106 106.989543 \nL 591.319149 106.989543 \n\" style=\"fill: none; stroke: #000000; stroke-width: 0.8; stroke-linejoin: miter; stroke-linecap: square\"/>\n   </g>\n   <g id=\"patch_36\">\n    <path d=\"M 520.085106 35.7555 \nL 591.319149 35.7555 \n\" style=\"fill: none; stroke: #000000; stroke-width: 0.8; stroke-linejoin: miter; stroke-linecap: square\"/>\n   </g>\n   <g id=\"text_7\">\n    <!-- c: shirt -->\n    <g transform=\"translate(535.06119 16.318125) scale(0.12 -0.12)\">\n     <use xlink:href=\"#DejaVuSans-63\"/>\n     <use xlink:href=\"#DejaVuSans-3a\" x=\"54.980469\"/>\n     <use xlink:href=\"#DejaVuSans-20\" x=\"88.671875\"/>\n     <use xlink:href=\"#DejaVuSans-73\" x=\"120.458984\"/>\n     <use xlink:href=\"#DejaVuSans-68\" x=\"172.558594\"/>\n     <use xlink:href=\"#DejaVuSans-69\" x=\"235.9375\"/>\n     <use xlink:href=\"#DejaVuSans-72\" x=\"263.720703\"/>\n     <use xlink:href=\"#DejaVuSans-74\" x=\"304.833984\"/>\n    </g>\n    <!-- un: t-shirt -->\n    <g transform=\"translate(526.238378 29.7555) scale(0.12 -0.12)\">\n     <use xlink:href=\"#DejaVuSans-75\"/>\n     <use xlink:href=\"#DejaVuSans-6e\" x=\"63.378906\"/>\n     <use xlink:href=\"#DejaVuSans-3a\" x=\"126.757812\"/>\n     <use xlink:href=\"#DejaVuSans-20\" x=\"160.449219\"/>\n     <use xlink:href=\"#DejaVuSans-74\" x=\"192.236328\"/>\n     <use xlink:href=\"#DejaVuSans-2d\" x=\"231.445312\"/>\n     <use xlink:href=\"#DejaVuSans-73\" x=\"267.529297\"/>\n     <use xlink:href=\"#DejaVuSans-68\" x=\"319.628906\"/>\n     <use xlink:href=\"#DejaVuSans-69\" x=\"383.007812\"/>\n     <use xlink:href=\"#DejaVuSans-72\" x=\"410.791016\"/>\n     <use xlink:href=\"#DejaVuSans-74\" x=\"451.904297\"/>\n    </g>\n   </g>\n  </g>\n  <g id=\"axes_8\">\n   <g id=\"patch_37\">\n    <path d=\"M 605.565957 106.989543 \nL 676.8 106.989543 \nL 676.8 35.7555 \nL 605.565957 35.7555 \nz\n\" style=\"fill: #ffffff\"/>\n   </g>\n   <g clip-path=\"url(#p8940d528a7)\">\n    <image xlink:href=\"data:image/png;base64,\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\" id=\"imagea98bcdd20f\" transform=\"scale(1 -1) translate(0 -71.28)\" x=\"605.565957\" y=\"-35.709543\" width=\"71.28\" height=\"71.28\"/>\n   </g>\n   <g id=\"patch_38\">\n    <path d=\"M 605.565957 106.989543 \nL 605.565957 35.7555 \n\" style=\"fill: none; stroke: #000000; stroke-width: 0.8; stroke-linejoin: miter; stroke-linecap: square\"/>\n   </g>\n   <g id=\"patch_39\">\n    <path d=\"M 676.8 106.989543 \nL 676.8 35.7555 \n\" style=\"fill: none; stroke: #000000; stroke-width: 0.8; stroke-linejoin: miter; stroke-linecap: square\"/>\n   </g>\n   <g id=\"patch_40\">\n    <path d=\"M 605.565957 106.989543 \nL 676.8 106.989543 \n\" style=\"fill: none; stroke: #000000; stroke-width: 0.8; stroke-linejoin: miter; stroke-linecap: square\"/>\n   </g>\n   <g id=\"patch_41\">\n    <path d=\"M 605.565957 35.7555 \nL 676.8 35.7555 \n\" style=\"fill: none; stroke: #000000; stroke-width: 0.8; stroke-linejoin: miter; stroke-linecap: square\"/>\n   </g>\n   <g id=\"text_8\">\n    <!-- c: pullover -->\n    <g transform=\"translate(609.629541 16.318125) scale(0.12 -0.12)\">\n     <use xlink:href=\"#DejaVuSans-63\"/>\n     <use xlink:href=\"#DejaVuSans-3a\" x=\"54.980469\"/>\n     <use xlink:href=\"#DejaVuSans-20\" x=\"88.671875\"/>\n     <use xlink:href=\"#DejaVuSans-70\" x=\"120.458984\"/>\n     <use xlink:href=\"#DejaVuSans-75\" x=\"183.935547\"/>\n     <use xlink:href=\"#DejaVuSans-6c\" x=\"247.314453\"/>\n     <use xlink:href=\"#DejaVuSans-6c\" x=\"275.097656\"/>\n     <use xlink:href=\"#DejaVuSans-6f\" x=\"302.880859\"/>\n     <use xlink:href=\"#DejaVuSans-76\" x=\"364.0625\"/>\n     <use xlink:href=\"#DejaVuSans-65\" x=\"423.242188\"/>\n     <use xlink:href=\"#DejaVuSans-72\" x=\"484.765625\"/>\n    </g>\n    <!-- un: shirt -->\n    <g transform=\"translate(616.236104 29.7555) scale(0.12 -0.12)\">\n     <use xlink:href=\"#DejaVuSans-75\"/>\n     <use xlink:href=\"#DejaVuSans-6e\" x=\"63.378906\"/>\n     <use xlink:href=\"#DejaVuSans-3a\" x=\"126.757812\"/>\n     <use xlink:href=\"#DejaVuSans-20\" x=\"160.449219\"/>\n     <use xlink:href=\"#DejaVuSans-73\" x=\"192.236328\"/>\n     <use xlink:href=\"#DejaVuSans-68\" x=\"244.335938\"/>\n     <use xlink:href=\"#DejaVuSans-69\" x=\"307.714844\"/>\n     <use xlink:href=\"#DejaVuSans-72\" x=\"335.498047\"/>\n     <use xlink:href=\"#DejaVuSans-74\" x=\"376.611328\"/>\n    </g>\n   </g>\n  </g>\n </g>\n <defs>\n  <clipPath id=\"p1866d47c96\">\n   <rect x=\"7.2\" y=\"35.7555\" width=\"71.234043\" height=\"71.234043\"/>\n  </clipPath>\n  <clipPath id=\"p8f8799a4bd\">\n   <rect x=\"92.680851\" y=\"35.7555\" width=\"71.234043\" height=\"71.234043\"/>\n  </clipPath>\n  <clipPath id=\"pfb5d4fccdc\">\n   <rect x=\"178.161702\" y=\"35.7555\" width=\"71.234043\" height=\"71.234043\"/>\n  </clipPath>\n  <clipPath id=\"p55ff2a6b4a\">\n   <rect x=\"263.642553\" y=\"35.7555\" width=\"71.234043\" height=\"71.234043\"/>\n  </clipPath>\n  <clipPath id=\"p4d4013185b\">\n   <rect x=\"349.123404\" y=\"35.7555\" width=\"71.234043\" height=\"71.234043\"/>\n  </clipPath>\n  <clipPath id=\"p0d8df81452\">\n   <rect x=\"434.604255\" y=\"35.7555\" width=\"71.234043\" height=\"71.234043\"/>\n  </clipPath>\n  <clipPath id=\"p18728589e0\">\n   <rect x=\"520.085106\" y=\"35.7555\" width=\"71.234043\" height=\"71.234043\"/>\n  </clipPath>\n  <clipPath id=\"p8940d528a7\">\n   <rect x=\"605.565957\" y=\"35.7555\" width=\"71.234043\" height=\"71.234043\"/>\n  </clipPath>\n </defs>\n</svg>\n"
     },
     "metadata": {},
     "output_type": "display_data"
    }
   ],
   "execution_count": 61
  },
  {
   "metadata": {},
   "cell_type": "code",
   "outputs": [],
   "execution_count": null,
   "source": "",
   "id": "65537f9adcfe4607"
  }
 ],
 "metadata": {
  "kernelspec": {
   "display_name": "Python 3",
   "language": "python",
   "name": "python3"
  },
  "language_info": {
   "codemirror_mode": {
    "name": "ipython",
    "version": 2
   },
   "file_extension": ".py",
   "mimetype": "text/x-python",
   "name": "python",
   "nbconvert_exporter": "python",
   "pygments_lexer": "ipython2",
   "version": "2.7.6"
  }
 },
 "nbformat": 4,
 "nbformat_minor": 5
}
