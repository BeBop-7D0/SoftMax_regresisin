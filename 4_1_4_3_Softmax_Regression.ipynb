{
  "cells": [
    {
      "cell_type": "markdown",
      "metadata": {
        "id": "view-in-github",
        "colab_type": "text"
      },
      "source": [
        "<a href=\"https://colab.research.google.com/github/BeBop-7D0/SoftMax_regresisin/blob/main/4_1_4_3_Softmax_Regression.ipynb\" target=\"_parent\"><img src=\"https://colab.research.google.com/assets/colab-badge.svg\" alt=\"Open In Colab\"/></a>"
      ]
    },
    {
      "cell_type": "code",
      "id": "initial_id",
      "metadata": {
        "collapsed": true,
        "ExecuteTime": {
          "end_time": "2024-10-15T08:38:24.753640Z",
          "start_time": "2024-10-15T08:38:24.734683Z"
        },
        "id": "initial_id"
      },
      "source": [
        "import math\n",
        "import time\n",
        "import matplotlib.pyplot as plt\n",
        "import numpy as np\n",
        "import torch\n",
        "\n",
        "from d2l import torch as d2l\n",
        "import random\n",
        "import torchvision\n",
        "from torchvision import transforms\n",
        "from torch.utils.data import DataLoader"
      ],
      "outputs": [],
      "execution_count": null
    },
    {
      "metadata": {
        "ExecuteTime": {
          "end_time": "2024-10-15T08:38:25.417771Z",
          "start_time": "2024-10-15T08:38:25.400773Z"
        },
        "id": "1035f59bbf01391"
      },
      "cell_type": "code",
      "source": [
        "# Загрузка из MNIST\n",
        "class FashionMNIST(d2l.DataModule):\n",
        "    def __init__(self, batch_size=64, resize=(28, 28)):\n",
        "        super().__init__()\n",
        "        self.save_hyperparameters()\n",
        "        trans = transforms.Compose([\n",
        "            transforms.Resize(resize),\n",
        "            transforms.ToTensor() ])\n",
        "        self.train = torchvision.datasets.FashionMNIST(\n",
        "            root=self.root, train=True, transform=trans, download=True\n",
        "        )\n",
        "\n",
        "        self.val = torchvision.datasets.FashionMNIST(\n",
        "            root=self.root, train=False, transform=trans, download=True\n",
        "        )"
      ],
      "id": "1035f59bbf01391",
      "outputs": [],
      "execution_count": null
    },
    {
      "metadata": {
        "ExecuteTime": {
          "end_time": "2024-10-15T08:38:26.099768Z",
          "start_time": "2024-10-15T08:38:26.007777Z"
        },
        "colab": {
          "base_uri": "https://localhost:8080/"
        },
        "id": "9663e3172fd7591d",
        "outputId": "d8fbcdfc-b245-4826-bcf1-4bb81d128bfc"
      },
      "cell_type": "code",
      "source": [
        "data = FashionMNIST(resize=(32, 32))\n",
        "print(f'num of train img: {len(data.train)}, num of val img: {len(data.val)}')"
      ],
      "id": "9663e3172fd7591d",
      "outputs": [
        {
          "output_type": "stream",
          "name": "stdout",
          "text": [
            "Downloading http://fashion-mnist.s3-website.eu-central-1.amazonaws.com/train-images-idx3-ubyte.gz\n",
            "Downloading http://fashion-mnist.s3-website.eu-central-1.amazonaws.com/train-images-idx3-ubyte.gz to ../data/FashionMNIST/raw/train-images-idx3-ubyte.gz\n"
          ]
        },
        {
          "output_type": "stream",
          "name": "stderr",
          "text": [
            "100%|██████████| 26421880/26421880 [00:01<00:00, 14205919.00it/s]\n"
          ]
        },
        {
          "output_type": "stream",
          "name": "stdout",
          "text": [
            "Extracting ../data/FashionMNIST/raw/train-images-idx3-ubyte.gz to ../data/FashionMNIST/raw\n",
            "\n",
            "Downloading http://fashion-mnist.s3-website.eu-central-1.amazonaws.com/train-labels-idx1-ubyte.gz\n",
            "Downloading http://fashion-mnist.s3-website.eu-central-1.amazonaws.com/train-labels-idx1-ubyte.gz to ../data/FashionMNIST/raw/train-labels-idx1-ubyte.gz\n"
          ]
        },
        {
          "output_type": "stream",
          "name": "stderr",
          "text": [
            "100%|██████████| 29515/29515 [00:00<00:00, 236956.58it/s]\n"
          ]
        },
        {
          "output_type": "stream",
          "name": "stdout",
          "text": [
            "Extracting ../data/FashionMNIST/raw/train-labels-idx1-ubyte.gz to ../data/FashionMNIST/raw\n",
            "\n",
            "Downloading http://fashion-mnist.s3-website.eu-central-1.amazonaws.com/t10k-images-idx3-ubyte.gz\n",
            "Downloading http://fashion-mnist.s3-website.eu-central-1.amazonaws.com/t10k-images-idx3-ubyte.gz to ../data/FashionMNIST/raw/t10k-images-idx3-ubyte.gz\n"
          ]
        },
        {
          "output_type": "stream",
          "name": "stderr",
          "text": [
            "100%|██████████| 4422102/4422102 [00:01<00:00, 4313586.25it/s]\n"
          ]
        },
        {
          "output_type": "stream",
          "name": "stdout",
          "text": [
            "Extracting ../data/FashionMNIST/raw/t10k-images-idx3-ubyte.gz to ../data/FashionMNIST/raw\n",
            "\n",
            "Downloading http://fashion-mnist.s3-website.eu-central-1.amazonaws.com/t10k-labels-idx1-ubyte.gz\n",
            "Downloading http://fashion-mnist.s3-website.eu-central-1.amazonaws.com/t10k-labels-idx1-ubyte.gz to ../data/FashionMNIST/raw/t10k-labels-idx1-ubyte.gz\n"
          ]
        },
        {
          "output_type": "stream",
          "name": "stderr",
          "text": [
            "100%|██████████| 5148/5148 [00:00<00:00, 19382654.39it/s]"
          ]
        },
        {
          "output_type": "stream",
          "name": "stdout",
          "text": [
            "Extracting ../data/FashionMNIST/raw/t10k-labels-idx1-ubyte.gz to ../data/FashionMNIST/raw\n",
            "\n",
            "num of train img: 60000, num of val img: 10000\n"
          ]
        },
        {
          "output_type": "stream",
          "name": "stderr",
          "text": [
            "\n"
          ]
        }
      ],
      "execution_count": null
    },
    {
      "metadata": {
        "ExecuteTime": {
          "end_time": "2024-10-15T08:38:26.303771Z",
          "start_time": "2024-10-15T08:38:26.290776Z"
        },
        "colab": {
          "base_uri": "https://localhost:8080/"
        },
        "id": "cb4dde63eeed638",
        "outputId": "4dea6cd2-9edd-4198-b974-9edcd84481c0"
      },
      "cell_type": "code",
      "source": [
        "# Данные представляются в виде тензоров (c, h, w), where c is channel of color\n",
        "data.train[0][0].shape"
      ],
      "id": "cb4dde63eeed638",
      "outputs": [
        {
          "output_type": "execute_result",
          "data": {
            "text/plain": [
              "torch.Size([1, 32, 32])"
            ]
          },
          "metadata": {},
          "execution_count": 4
        }
      ],
      "execution_count": null
    },
    {
      "metadata": {
        "ExecuteTime": {
          "end_time": "2024-10-15T08:38:27.773517Z",
          "start_time": "2024-10-15T08:38:27.754520Z"
        },
        "id": "5d7c209558caa632"
      },
      "cell_type": "code",
      "source": [
        "@d2l.add_to_class(FashionMNIST)\n",
        "def text_labels(self, indices):\n",
        "    labels =  ['t-shirt', 'trouser', 'pullover', 'dress', 'coat',\n",
        "              'sandal', 'shirt', 'sneaker', 'bag', 'ankle boot']\n",
        "    return [labels[int(idx)] for idx in indices]"
      ],
      "id": "5d7c209558caa632",
      "outputs": [],
      "execution_count": null
    },
    {
      "metadata": {
        "ExecuteTime": {
          "end_time": "2024-10-15T08:27:44.358595Z",
          "start_time": "2024-10-15T08:27:44.283597Z"
        },
        "colab": {
          "base_uri": "https://localhost:8080/"
        },
        "id": "b31ba08a4ad93916",
        "outputId": "038cbcfd-c114-4b86-eac0-e45893d7d1b8"
      },
      "cell_type": "code",
      "source": [
        "data.text_labels([1, 2])"
      ],
      "id": "b31ba08a4ad93916",
      "outputs": [
        {
          "output_type": "execute_result",
          "data": {
            "text/plain": [
              "['trouser', 'pullover']"
            ]
          },
          "metadata": {},
          "execution_count": 6
        }
      ],
      "execution_count": null
    },
    {
      "metadata": {
        "ExecuteTime": {
          "end_time": "2024-10-15T08:27:44.452597Z",
          "start_time": "2024-10-15T08:27:44.361604Z"
        },
        "id": "51426449a46072a0"
      },
      "cell_type": "code",
      "source": [
        "@d2l.add_to_class(FashionMNIST)\n",
        "def get_dataloader(self, train=True):\n",
        "    data = self.train if train else self.val\n",
        "    return DataLoader(data, batch_size=self.batch_size, shuffle=train, num_workers=0)\n"
      ],
      "id": "51426449a46072a0",
      "outputs": [],
      "execution_count": null
    },
    {
      "metadata": {
        "ExecuteTime": {
          "end_time": "2024-10-15T08:27:44.546600Z",
          "start_time": "2024-10-15T08:27:44.457606Z"
        },
        "colab": {
          "base_uri": "https://localhost:8080/"
        },
        "id": "d59dbe82f6872ccf",
        "outputId": "4180ce67-1e36-4731-b693-ffa2c4eaab10"
      },
      "cell_type": "code",
      "source": [
        "X, y = next(iter(data.get_dataloader(train=True)))\n",
        "X.shape, y.shape, y.dtype"
      ],
      "id": "d59dbe82f6872ccf",
      "outputs": [
        {
          "output_type": "execute_result",
          "data": {
            "text/plain": [
              "(torch.Size([64, 1, 32, 32]), torch.Size([64]), torch.int64)"
            ]
          },
          "metadata": {},
          "execution_count": 8
        }
      ],
      "execution_count": null
    },
    {
      "metadata": {
        "ExecuteTime": {
          "end_time": "2024-10-15T08:27:52.968622Z",
          "start_time": "2024-10-15T08:27:44.549600Z"
        },
        "colab": {
          "base_uri": "https://localhost:8080/",
          "height": 36
        },
        "id": "bb5f0eef092e54dc",
        "outputId": "c29ddfdd-839e-49a4-92ee-59eb98914f47"
      },
      "cell_type": "code",
      "source": [
        "tic = time.time()\n",
        "for X, y in data.get_dataloader():\n",
        "    continue\n",
        "f\"{time.time()-tic} sec\""
      ],
      "id": "bb5f0eef092e54dc",
      "outputs": [
        {
          "output_type": "execute_result",
          "data": {
            "text/plain": [
              "'11.022284746170044 sec'"
            ],
            "application/vnd.google.colaboratory.intrinsic+json": {
              "type": "string"
            }
          },
          "metadata": {},
          "execution_count": 9
        }
      ],
      "execution_count": null
    },
    {
      "metadata": {
        "ExecuteTime": {
          "end_time": "2024-10-15T08:27:52.984624Z",
          "start_time": "2024-10-15T08:27:52.970596Z"
        },
        "id": "48c2085c381b54aa"
      },
      "cell_type": "code",
      "source": [
        "def show_images(imgs, num_rows, num_cols, title=None, scale=1.5):\n",
        "    raise NotImplementedError\n"
      ],
      "id": "48c2085c381b54aa",
      "outputs": [],
      "execution_count": null
    },
    {
      "metadata": {
        "ExecuteTime": {
          "end_time": "2024-10-15T08:27:53.064592Z",
          "start_time": "2024-10-15T08:27:52.986596Z"
        },
        "id": "b9821b7f9f38510"
      },
      "cell_type": "code",
      "source": [
        "@d2l.add_to_class(FashionMNIST)\n",
        "def visualize(self, batch, nrows=1, ncols=8, labels=[]):\n",
        "    X, y = batch\n",
        "    if not labels:\n",
        "        labels = self.text_labels(y)\n",
        "    d2l.show_images(X.squeeze(1), nrows, ncols, titles=labels)\n"
      ],
      "id": "b9821b7f9f38510",
      "outputs": [],
      "execution_count": null
    },
    {
      "metadata": {
        "ExecuteTime": {
          "end_time": "2024-10-15T08:27:53.380599Z",
          "start_time": "2024-10-15T08:27:53.066599Z"
        },
        "colab": {
          "base_uri": "https://localhost:8080/",
          "height": 158
        },
        "id": "4d17aa6fd7028edc",
        "outputId": "3026c5ef-3067-4ed5-c1ce-37b4c64300ff"
      },
      "cell_type": "code",
      "source": [
        "batch = next(iter(data.val_dataloader()))\n",
        "data.visualize(batch)"
      ],
      "id": "4d17aa6fd7028edc",
      "outputs": [
        {
          "output_type": "display_data",
          "data": {
            "text/plain": [
              "<Figure size 1200x150 with 8 Axes>"
            ],
            "image/png": "[encoded data removed]"
          },
          "metadata": {}
        }
      ],
      "execution_count": null
    },
    {
      "metadata": {
        "ExecuteTime": {
          "end_time": "2024-10-15T08:27:53.396604Z",
          "start_time": "2024-10-15T08:27:53.382597Z"
        },
        "id": "73a6c06668a828f7"
      },
      "cell_type": "code",
      "source": [
        "def text_labels(indices):\n",
        "    labels =  ['t-shirt', 'trouser', 'pullover', 'dress', 'coat',\n",
        "              'sandal', 'shirt', 'sneaker', 'bag', 'ankle boot']\n",
        "    return [labels[int(idx)] for idx in indices]"
      ],
      "id": "73a6c06668a828f7",
      "outputs": [],
      "execution_count": null
    },
    {
      "metadata": {
        "ExecuteTime": {
          "end_time": "2024-10-15T08:27:53.490598Z",
          "start_time": "2024-10-15T08:27:53.398596Z"
        },
        "id": "f31dba5b4c10c965"
      },
      "cell_type": "code",
      "source": [
        "# Модель классификатора\n",
        "class Classifier(d2l.Module):\n",
        "    def validation_step(self, batch):\n",
        "        Y_hat = self(*batch[:-1])\n",
        "        self.plot('loss', self.loss(Y_hat, batch[-1]), train=False)\n",
        "        self.plot('acc', self.accuracy(Y_hat, batch[-1]), train=False)\n"
      ],
      "id": "f31dba5b4c10c965",
      "outputs": [],
      "execution_count": null
    },
    {
      "metadata": {
        "ExecuteTime": {
          "end_time": "2024-10-15T08:27:53.678599Z",
          "start_time": "2024-10-15T08:27:53.496601Z"
        },
        "id": "bd45840e47fe6a9a"
      },
      "cell_type": "code",
      "source": [
        "@d2l.add_to_class(d2l.Module)\n",
        "def configure_optimizer(self):\n",
        "    return torch.optim.SGD(self.parameters(), lr=self.lr)\n"
      ],
      "id": "bd45840e47fe6a9a",
      "outputs": [],
      "execution_count": null
    },
    {
      "metadata": {
        "ExecuteTime": {
          "end_time": "2024-10-15T08:27:53.916601Z",
          "start_time": "2024-10-15T08:27:53.689602Z"
        },
        "id": "9f02ae45c8c198a1"
      },
      "cell_type": "code",
      "source": [
        "@d2l.add_to_class(Classifier)\n",
        "def accuracy(self, Y_hat, Y, average=True):\n",
        "    Y_hat = Y_hat.reshape((-1, Y_hat.shape[-1]))\n",
        "    preds = Y_hat.argmax(axis=1).type(Y.dtype)\n",
        "    compare = (preds == Y.reshape(-1)).type(torch.float32)\n",
        "    return compare.mean() if average else compare"
      ],
      "id": "9f02ae45c8c198a1",
      "outputs": [],
      "execution_count": null
    },
    {
      "metadata": {
        "ExecuteTime": {
          "end_time": "2024-10-15T08:27:54.012594Z",
          "start_time": "2024-10-15T08:27:53.919599Z"
        },
        "id": "181f6ce6ce52382e"
      },
      "cell_type": "code",
      "source": [
        "def softmax(X):\n",
        "    norm = torch.exp(X).sum(dim=1, keepdim=True)\n",
        "    result = X.exp() / norm\n",
        "    return result\n"
      ],
      "id": "181f6ce6ce52382e",
      "outputs": [],
      "execution_count": null
    },
    {
      "metadata": {
        "ExecuteTime": {
          "end_time": "2024-10-15T08:27:54.092598Z",
          "start_time": "2024-10-15T08:27:54.014595Z"
        },
        "id": "7fdd1c90c991e520"
      },
      "cell_type": "code",
      "source": [
        "class SoftmaxRegressionScratch(d2l.Classifier):\n",
        "    def __init__(self, num_inputs, num_outputs, lr, sigma=0.01):\n",
        "        super().__init__()\n",
        "        self.save_hyperparameters()\n",
        "        self.W = torch.normal(0, sigma, size=(num_inputs, num_outputs), requires_grad=True)\n",
        "        self.b = torch.zeros(num_outputs, requires_grad=True)\n",
        "    def parameters(self):\n",
        "        return [self.W, self.b]"
      ],
      "id": "7fdd1c90c991e520",
      "outputs": [],
      "execution_count": null
    },
    {
      "metadata": {
        "ExecuteTime": {
          "end_time": "2024-10-15T08:27:54.171595Z",
          "start_time": "2024-10-15T08:27:54.096598Z"
        },
        "id": "acfc52ca565519ef"
      },
      "cell_type": "code",
      "source": [
        "@d2l.add_to_class(SoftmaxRegressionScratch)\n",
        "def forward(self, X):\n",
        "    X = X.reshape((-1, self.W.shape[0]))\n",
        "    return softmax(torch.matmul(X, self.W) + self.b)"
      ],
      "id": "acfc52ca565519ef",
      "outputs": [],
      "execution_count": null
    },
    {
      "metadata": {
        "ExecuteTime": {
          "end_time": "2024-10-15T08:27:54.249598Z",
          "start_time": "2024-10-15T08:27:54.173597Z"
        },
        "colab": {
          "base_uri": "https://localhost:8080/"
        },
        "id": "8a11b593f389fbfb",
        "outputId": "c9540ad8-18a5-4461-c53d-eb5b07fa8540"
      },
      "cell_type": "code",
      "source": [
        "y = torch.tensor([0, 1])\n",
        "y_hat = torch.tensor([[1, 0, 0], [0, 0.2, 0.999]])\n",
        "answer = y_hat[[0, 1], y]\n",
        "print(answer)"
      ],
      "id": "8a11b593f389fbfb",
      "outputs": [
        {
          "output_type": "stream",
          "name": "stdout",
          "text": [
            "tensor([1.0000, 0.2000])\n"
          ]
        }
      ],
      "execution_count": null
    },
    {
      "metadata": {
        "ExecuteTime": {
          "end_time": "2024-10-15T08:27:54.344595Z",
          "start_time": "2024-10-15T08:27:54.251598Z"
        },
        "id": "538b52d4b6bda1f2"
      },
      "cell_type": "code",
      "source": [
        "def cross_entropy(y_hat, y):\n",
        "    return -torch.log(y_hat[list(range(len(y_hat))), y]).mean()"
      ],
      "id": "538b52d4b6bda1f2",
      "outputs": [],
      "execution_count": null
    },
    {
      "metadata": {
        "ExecuteTime": {
          "end_time": "2024-10-15T08:27:54.422601Z",
          "start_time": "2024-10-15T08:27:54.346597Z"
        },
        "id": "d3f4826baebd605a"
      },
      "cell_type": "code",
      "source": [
        "@d2l.add_to_class(SoftmaxRegressionScratch)\n",
        "def loss(self, y_hat, y):\n",
        "    return cross_entropy(y_hat, y)"
      ],
      "id": "d3f4826baebd605a",
      "outputs": [],
      "execution_count": null
    },
    {
      "metadata": {
        "colab": {
          "base_uri": "https://localhost:8080/",
          "height": 266
        },
        "id": "8e945dd7b3808619",
        "outputId": "a4b36873-f117-453b-f017-a2c8d50a770e"
      },
      "cell_type": "code",
      "source": [
        "data = d2l.FashionMNIST(batch_size=256)\n",
        "model = SoftmaxRegressionScratch(num_inputs=28*28, num_outputs=10, lr=0.1)\n",
        "trainer = d2l.Trainer(max_epochs=10)\n",
        "trainer.fit(model, data)"
      ],
      "id": "8e945dd7b3808619",
      "execution_count": null,
      "outputs": [
        {
          "output_type": "display_data",
          "data": {
            "text/plain": [
              "<Figure size 350x250 with 1 Axes>"
            ],
            "image/svg+xml": "<?xml version=\"1.0\" encoding=\"utf-8\" standalone=\"no\"?>\n<!DOCTYPE svg PUBLIC \"-//W3C//DTD SVG 1.1//EN\"\n  \"http://www.w3.org/Graphics/SVG/1.1/DTD/svg11.dtd\">\n<svg xmlns:xlink=\"http://www.w3.org/1999/xlink\" width=\"238.965625pt\" height=\"183.35625pt\" viewBox=\"0 0 238.965625 183.35625\" xmlns=\"http://www.w3.org/2000/svg\" version=\"1.1\">\n <metadata>\n  <rdf:RDF xmlns:dc=\"http://purl.org/dc/elements/1.1/\" xmlns:cc=\"http://creativecommons.org/ns#\" xmlns:rdf=\"http://www.w3.org/1999/02/22-rdf-syntax-ns#\">\n   <cc:Work>\n    <dc:type rdf:resource=\"http://purl.org/dc/dcmitype/StillImage\"/>\n    <dc:date>2024-10-15T08:44:23.131305</dc:date>\n    <dc:format>image/svg+xml</dc:format>\n    <dc:creator>\n     <cc:Agent>\n      <dc:title>Matplotlib v3.7.2, https://matplotlib.org/</dc:title>\n     </cc:Agent>\n    </dc:creator>\n   </cc:Work>\n  </rdf:RDF>\n </metadata>\n <defs>\n  <style type=\"text/css\">*{stroke-linejoin: round; stroke-linecap: butt}</style>\n </defs>\n <g id=\"figure_1\">\n  <g id=\"patch_1\">\n   <path d=\"M 0 183.35625 \nL 238.965625 183.35625 \nL 238.965625 0 \nL 0 0 \nz\n\" style=\"fill: #ffffff\"/>\n  </g>\n  <g id=\"axes_1\">\n   <g id=\"patch_2\">\n    <path d=\"M 30.103125 145.8 \nL 225.403125 145.8 \nL 225.403125 7.2 \nL 30.103125 7.2 \nz\n\" style=\"fill: #ffffff\"/>\n   </g>\n   <g id=\"matplotlib.axis_1\">\n    <g id=\"xtick_1\">\n     <g id=\"line2d_1\">\n      <defs>\n       <path id=\"m70809c3687\" d=\"M 0 0 \nL 0 3.5 \n\" style=\"stroke: #000000; stroke-width: 0.8\"/>\n      </defs>\n      <g>\n       <use xlink:href=\"#m70809c3687\" x=\"30.103125\" y=\"145.8\" style=\"stroke: #000000; stroke-width: 0.8\"/>\n      </g>\n     </g>\n     <g id=\"text_1\">\n      <!-- 0 -->\n      <g transform=\"translate(26.921875 160.398438) scale(0.1 -0.1)\">\n       <defs>\n        <path id=\"DejaVuSans-30\" d=\"M 2034 4250 \nQ 1547 4250 1301 3770 \nQ 1056 3291 1056 2328 \nQ 1056 1369 1301 889 \nQ 1547 409 2034 409 \nQ 2525 409 2770 889 \nQ 3016 1369 3016 2328 \nQ 3016 3291 2770 3770 \nQ 2525 4250 2034 4250 \nz\nM 2034 4750 \nQ 2819 4750 3233 4129 \nQ 3647 3509 3647 2328 \nQ 3647 1150 3233 529 \nQ 2819 -91 2034 -91 \nQ 1250 -91 836 529 \nQ 422 1150 422 2328 \nQ 422 3509 836 4129 \nQ 1250 4750 2034 4750 \nz\n\" transform=\"scale(0.015625)\"/>\n       </defs>\n       <use xlink:href=\"#DejaVuSans-30\"/>\n      </g>\n     </g>\n    </g>\n    <g id=\"xtick_2\">\n     <g id=\"line2d_2\">\n      <g>\n       <use xlink:href=\"#m70809c3687\" x=\"69.163125\" y=\"145.8\" style=\"stroke: #000000; stroke-width: 0.8\"/>\n      </g>\n     </g>\n     <g id=\"text_2\">\n      <!-- 2 -->\n      <g transform=\"translate(65.981875 160.398438) scale(0.1 -0.1)\">\n       <defs>\n        <path id=\"DejaVuSans-32\" d=\"M 1228 531 \nL 3431 531 \nL 3431 0 \nL 469 0 \nL 469 531 \nQ 828 903 1448 1529 \nQ 2069 2156 2228 2338 \nQ 2531 2678 2651 2914 \nQ 2772 3150 2772 3378 \nQ 2772 3750 2511 3984 \nQ 2250 4219 1831 4219 \nQ 1534 4219 1204 4116 \nQ 875 4013 500 3803 \nL 500 4441 \nQ 881 4594 1212 4672 \nQ 1544 4750 1819 4750 \nQ 2544 4750 2975 4387 \nQ 3406 4025 3406 3419 \nQ 3406 3131 3298 2873 \nQ 3191 2616 2906 2266 \nQ 2828 2175 2409 1742 \nQ 1991 1309 1228 531 \nz\n\" transform=\"scale(0.015625)\"/>\n       </defs>\n       <use xlink:href=\"#DejaVuSans-32\"/>\n      </g>\n     </g>\n    </g>\n    <g id=\"xtick_3\">\n     <g id=\"line2d_3\">\n      <g>\n       <use xlink:href=\"#m70809c3687\" x=\"108.223125\" y=\"145.8\" style=\"stroke: #000000; stroke-width: 0.8\"/>\n      </g>\n     </g>\n     <g id=\"text_3\">\n      <!-- 4 -->\n      <g transform=\"translate(105.041875 160.398438) scale(0.1 -0.1)\">\n       <defs>\n        <path id=\"DejaVuSans-34\" d=\"M 2419 4116 \nL 825 1625 \nL 2419 1625 \nL 2419 4116 \nz\nM 2253 4666 \nL 3047 4666 \nL 3047 1625 \nL 3713 1625 \nL 3713 1100 \nL 3047 1100 \nL 3047 0 \nL 2419 0 \nL 2419 1100 \nL 313 1100 \nL 313 1709 \nL 2253 4666 \nz\n\" transform=\"scale(0.015625)\"/>\n       </defs>\n       <use xlink:href=\"#DejaVuSans-34\"/>\n      </g>\n     </g>\n    </g>\n    <g id=\"xtick_4\">\n     <g id=\"line2d_4\">\n      <g>\n       <use xlink:href=\"#m70809c3687\" x=\"147.283125\" y=\"145.8\" style=\"stroke: #000000; stroke-width: 0.8\"/>\n      </g>\n     </g>\n     <g id=\"text_4\">\n      <!-- 6 -->\n      <g transform=\"translate(144.101875 160.398438) scale(0.1 -0.1)\">\n       <defs>\n        <path id=\"DejaVuSans-36\" d=\"M 2113 2584 \nQ 1688 2584 1439 2293 \nQ 1191 2003 1191 1497 \nQ 1191 994 1439 701 \nQ 1688 409 2113 409 \nQ 2538 409 2786 701 \nQ 3034 994 3034 1497 \nQ 3034 2003 2786 2293 \nQ 2538 2584 2113 2584 \nz\nM 3366 4563 \nL 3366 3988 \nQ 3128 4100 2886 4159 \nQ 2644 4219 2406 4219 \nQ 1781 4219 1451 3797 \nQ 1122 3375 1075 2522 \nQ 1259 2794 1537 2939 \nQ 1816 3084 2150 3084 \nQ 2853 3084 3261 2657 \nQ 3669 2231 3669 1497 \nQ 3669 778 3244 343 \nQ 2819 -91 2113 -91 \nQ 1303 -91 875 529 \nQ 447 1150 447 2328 \nQ 447 3434 972 4092 \nQ 1497 4750 2381 4750 \nQ 2619 4750 2861 4703 \nQ 3103 4656 3366 4563 \nz\n\" transform=\"scale(0.015625)\"/>\n       </defs>\n       <use xlink:href=\"#DejaVuSans-36\"/>\n      </g>\n     </g>\n    </g>\n    <g id=\"xtick_5\">\n     <g id=\"line2d_5\">\n      <g>\n       <use xlink:href=\"#m70809c3687\" x=\"186.343125\" y=\"145.8\" style=\"stroke: #000000; stroke-width: 0.8\"/>\n      </g>\n     </g>\n     <g id=\"text_5\">\n      <!-- 8 -->\n      <g transform=\"translate(183.161875 160.398438) scale(0.1 -0.1)\">\n       <defs>\n        <path id=\"DejaVuSans-38\" d=\"M 2034 2216 \nQ 1584 2216 1326 1975 \nQ 1069 1734 1069 1313 \nQ 1069 891 1326 650 \nQ 1584 409 2034 409 \nQ 2484 409 2743 651 \nQ 3003 894 3003 1313 \nQ 3003 1734 2745 1975 \nQ 2488 2216 2034 2216 \nz\nM 1403 2484 \nQ 997 2584 770 2862 \nQ 544 3141 544 3541 \nQ 544 4100 942 4425 \nQ 1341 4750 2034 4750 \nQ 2731 4750 3128 4425 \nQ 3525 4100 3525 3541 \nQ 3525 3141 3298 2862 \nQ 3072 2584 2669 2484 \nQ 3125 2378 3379 2068 \nQ 3634 1759 3634 1313 \nQ 3634 634 3220 271 \nQ 2806 -91 2034 -91 \nQ 1263 -91 848 271 \nQ 434 634 434 1313 \nQ 434 1759 690 2068 \nQ 947 2378 1403 2484 \nz\nM 1172 3481 \nQ 1172 3119 1398 2916 \nQ 1625 2713 2034 2713 \nQ 2441 2713 2670 2916 \nQ 2900 3119 2900 3481 \nQ 2900 3844 2670 4047 \nQ 2441 4250 2034 4250 \nQ 1625 4250 1398 4047 \nQ 1172 3844 1172 3481 \nz\n\" transform=\"scale(0.015625)\"/>\n       </defs>\n       <use xlink:href=\"#DejaVuSans-38\"/>\n      </g>\n     </g>\n    </g>\n    <g id=\"xtick_6\">\n     <g id=\"line2d_6\">\n      <g>\n       <use xlink:href=\"#m70809c3687\" x=\"225.403125\" y=\"145.8\" style=\"stroke: #000000; stroke-width: 0.8\"/>\n      </g>\n     </g>\n     <g id=\"text_6\">\n      <!-- 10 -->\n      <g transform=\"translate(219.040625 160.398438) scale(0.1 -0.1)\">\n       <defs>\n        <path id=\"DejaVuSans-31\" d=\"M 794 531 \nL 1825 531 \nL 1825 4091 \nL 703 3866 \nL 703 4441 \nL 1819 4666 \nL 2450 4666 \nL 2450 531 \nL 3481 531 \nL 3481 0 \nL 794 0 \nL 794 531 \nz\n\" transform=\"scale(0.015625)\"/>\n       </defs>\n       <use xlink:href=\"#DejaVuSans-31\"/>\n       <use xlink:href=\"#DejaVuSans-30\" x=\"63.623047\"/>\n      </g>\n     </g>\n    </g>\n    <g id=\"text_7\">\n     <!-- epoch -->\n     <g transform=\"translate(112.525 174.076563) scale(0.1 -0.1)\">\n      <defs>\n       <path id=\"DejaVuSans-65\" d=\"M 3597 1894 \nL 3597 1613 \nL 953 1613 \nQ 991 1019 1311 708 \nQ 1631 397 2203 397 \nQ 2534 397 2845 478 \nQ 3156 559 3463 722 \nL 3463 178 \nQ 3153 47 2828 -22 \nQ 2503 -91 2169 -91 \nQ 1331 -91 842 396 \nQ 353 884 353 1716 \nQ 353 2575 817 3079 \nQ 1281 3584 2069 3584 \nQ 2775 3584 3186 3129 \nQ 3597 2675 3597 1894 \nz\nM 3022 2063 \nQ 3016 2534 2758 2815 \nQ 2500 3097 2075 3097 \nQ 1594 3097 1305 2825 \nQ 1016 2553 972 2059 \nL 3022 2063 \nz\n\" transform=\"scale(0.015625)\"/>\n       <path id=\"DejaVuSans-70\" d=\"M 1159 525 \nL 1159 -1331 \nL 581 -1331 \nL 581 3500 \nL 1159 3500 \nL 1159 2969 \nQ 1341 3281 1617 3432 \nQ 1894 3584 2278 3584 \nQ 2916 3584 3314 3078 \nQ 3713 2572 3713 1747 \nQ 3713 922 3314 415 \nQ 2916 -91 2278 -91 \nQ 1894 -91 1617 61 \nQ 1341 213 1159 525 \nz\nM 3116 1747 \nQ 3116 2381 2855 2742 \nQ 2594 3103 2138 3103 \nQ 1681 3103 1420 2742 \nQ 1159 2381 1159 1747 \nQ 1159 1113 1420 752 \nQ 1681 391 2138 391 \nQ 2594 391 2855 752 \nQ 3116 1113 3116 1747 \nz\n\" transform=\"scale(0.015625)\"/>\n       <path id=\"DejaVuSans-6f\" d=\"M 1959 3097 \nQ 1497 3097 1228 2736 \nQ 959 2375 959 1747 \nQ 959 1119 1226 758 \nQ 1494 397 1959 397 \nQ 2419 397 2687 759 \nQ 2956 1122 2956 1747 \nQ 2956 2369 2687 2733 \nQ 2419 3097 1959 3097 \nz\nM 1959 3584 \nQ 2709 3584 3137 3096 \nQ 3566 2609 3566 1747 \nQ 3566 888 3137 398 \nQ 2709 -91 1959 -91 \nQ 1206 -91 779 398 \nQ 353 888 353 1747 \nQ 353 2609 779 3096 \nQ 1206 3584 1959 3584 \nz\n\" transform=\"scale(0.015625)\"/>\n       <path id=\"DejaVuSans-63\" d=\"M 3122 3366 \nL 3122 2828 \nQ 2878 2963 2633 3030 \nQ 2388 3097 2138 3097 \nQ 1578 3097 1268 2742 \nQ 959 2388 959 1747 \nQ 959 1106 1268 751 \nQ 1578 397 2138 397 \nQ 2388 397 2633 464 \nQ 2878 531 3122 666 \nL 3122 134 \nQ 2881 22 2623 -34 \nQ 2366 -91 2075 -91 \nQ 1284 -91 818 406 \nQ 353 903 353 1747 \nQ 353 2603 823 3093 \nQ 1294 3584 2113 3584 \nQ 2378 3584 2631 3529 \nQ 2884 3475 3122 3366 \nz\n\" transform=\"scale(0.015625)\"/>\n       <path id=\"DejaVuSans-68\" d=\"M 3513 2113 \nL 3513 0 \nL 2938 0 \nL 2938 2094 \nQ 2938 2591 2744 2837 \nQ 2550 3084 2163 3084 \nQ 1697 3084 1428 2787 \nQ 1159 2491 1159 1978 \nL 1159 0 \nL 581 0 \nL 581 4863 \nL 1159 4863 \nL 1159 2956 \nQ 1366 3272 1645 3428 \nQ 1925 3584 2291 3584 \nQ 2894 3584 3203 3211 \nQ 3513 2838 3513 2113 \nz\n\" transform=\"scale(0.015625)\"/>\n      </defs>\n      <use xlink:href=\"#DejaVuSans-65\"/>\n      <use xlink:href=\"#DejaVuSans-70\" x=\"61.523438\"/>\n      <use xlink:href=\"#DejaVuSans-6f\" x=\"125\"/>\n      <use xlink:href=\"#DejaVuSans-63\" x=\"186.181641\"/>\n      <use xlink:href=\"#DejaVuSans-68\" x=\"241.162109\"/>\n     </g>\n    </g>\n   </g>\n   <g id=\"matplotlib.axis_2\">\n    <g id=\"ytick_1\">\n     <g id=\"line2d_7\">\n      <defs>\n       <path id=\"m780b332d5d\" d=\"M 0 0 \nL -3.5 0 \n\" style=\"stroke: #000000; stroke-width: 0.8\"/>\n      </defs>\n      <g>\n       <use xlink:href=\"#m780b332d5d\" x=\"30.103125\" y=\"124.529663\" style=\"stroke: #000000; stroke-width: 0.8\"/>\n      </g>\n     </g>\n     <g id=\"text_8\">\n      <!-- 0.5 -->\n      <g transform=\"translate(7.2 128.328881) scale(0.1 -0.1)\">\n       <defs>\n        <path id=\"DejaVuSans-2e\" d=\"M 684 794 \nL 1344 794 \nL 1344 0 \nL 684 0 \nL 684 794 \nz\n\" transform=\"scale(0.015625)\"/>\n        <path id=\"DejaVuSans-35\" d=\"M 691 4666 \nL 3169 4666 \nL 3169 4134 \nL 1269 4134 \nL 1269 2991 \nQ 1406 3038 1543 3061 \nQ 1681 3084 1819 3084 \nQ 2600 3084 3056 2656 \nQ 3513 2228 3513 1497 \nQ 3513 744 3044 326 \nQ 2575 -91 1722 -91 \nQ 1428 -91 1123 -41 \nQ 819 9 494 109 \nL 494 744 \nQ 775 591 1075 516 \nQ 1375 441 1709 441 \nQ 2250 441 2565 725 \nQ 2881 1009 2881 1497 \nQ 2881 1984 2565 2268 \nQ 2250 2553 1709 2553 \nQ 1456 2553 1204 2497 \nQ 953 2441 691 2322 \nL 691 4666 \nz\n\" transform=\"scale(0.015625)\"/>\n       </defs>\n       <use xlink:href=\"#DejaVuSans-30\"/>\n       <use xlink:href=\"#DejaVuSans-2e\" x=\"63.623047\"/>\n       <use xlink:href=\"#DejaVuSans-35\" x=\"95.410156\"/>\n      </g>\n     </g>\n    </g>\n    <g id=\"ytick_2\">\n     <g id=\"line2d_8\">\n      <g>\n       <use xlink:href=\"#m780b332d5d\" x=\"30.103125\" y=\"97.800945\" style=\"stroke: #000000; stroke-width: 0.8\"/>\n      </g>\n     </g>\n     <g id=\"text_9\">\n      <!-- 0.6 -->\n      <g transform=\"translate(7.2 101.600164) scale(0.1 -0.1)\">\n       <use xlink:href=\"#DejaVuSans-30\"/>\n       <use xlink:href=\"#DejaVuSans-2e\" x=\"63.623047\"/>\n       <use xlink:href=\"#DejaVuSans-36\" x=\"95.410156\"/>\n      </g>\n     </g>\n    </g>\n    <g id=\"ytick_3\">\n     <g id=\"line2d_9\">\n      <g>\n       <use xlink:href=\"#m780b332d5d\" x=\"30.103125\" y=\"71.072227\" style=\"stroke: #000000; stroke-width: 0.8\"/>\n      </g>\n     </g>\n     <g id=\"text_10\">\n      <!-- 0.7 -->\n      <g transform=\"translate(7.2 74.871446) scale(0.1 -0.1)\">\n       <defs>\n        <path id=\"DejaVuSans-37\" d=\"M 525 4666 \nL 3525 4666 \nL 3525 4397 \nL 1831 0 \nL 1172 0 \nL 2766 4134 \nL 525 4134 \nL 525 4666 \nz\n\" transform=\"scale(0.015625)\"/>\n       </defs>\n       <use xlink:href=\"#DejaVuSans-30\"/>\n       <use xlink:href=\"#DejaVuSans-2e\" x=\"63.623047\"/>\n       <use xlink:href=\"#DejaVuSans-37\" x=\"95.410156\"/>\n      </g>\n     </g>\n    </g>\n    <g id=\"ytick_4\">\n     <g id=\"line2d_10\">\n      <g>\n       <use xlink:href=\"#m780b332d5d\" x=\"30.103125\" y=\"44.343509\" style=\"stroke: #000000; stroke-width: 0.8\"/>\n      </g>\n     </g>\n     <g id=\"text_11\">\n      <!-- 0.8 -->\n      <g transform=\"translate(7.2 48.142728) scale(0.1 -0.1)\">\n       <use xlink:href=\"#DejaVuSans-30\"/>\n       <use xlink:href=\"#DejaVuSans-2e\" x=\"63.623047\"/>\n       <use xlink:href=\"#DejaVuSans-38\" x=\"95.410156\"/>\n      </g>\n     </g>\n    </g>\n    <g id=\"ytick_5\">\n     <g id=\"line2d_11\">\n      <g>\n       <use xlink:href=\"#m780b332d5d\" x=\"30.103125\" y=\"17.614791\" style=\"stroke: #000000; stroke-width: 0.8\"/>\n      </g>\n     </g>\n     <g id=\"text_12\">\n      <!-- 0.9 -->\n      <g transform=\"translate(7.2 21.41401) scale(0.1 -0.1)\">\n       <defs>\n        <path id=\"DejaVuSans-39\" d=\"M 703 97 \nL 703 672 \nQ 941 559 1184 500 \nQ 1428 441 1663 441 \nQ 2288 441 2617 861 \nQ 2947 1281 2994 2138 \nQ 2813 1869 2534 1725 \nQ 2256 1581 1919 1581 \nQ 1219 1581 811 2004 \nQ 403 2428 403 3163 \nQ 403 3881 828 4315 \nQ 1253 4750 1959 4750 \nQ 2769 4750 3195 4129 \nQ 3622 3509 3622 2328 \nQ 3622 1225 3098 567 \nQ 2575 -91 1691 -91 \nQ 1453 -91 1209 -44 \nQ 966 3 703 97 \nz\nM 1959 2075 \nQ 2384 2075 2632 2365 \nQ 2881 2656 2881 3163 \nQ 2881 3666 2632 3958 \nQ 2384 4250 1959 4250 \nQ 1534 4250 1286 3958 \nQ 1038 3666 1038 3163 \nQ 1038 2656 1286 2365 \nQ 1534 2075 1959 2075 \nz\n\" transform=\"scale(0.015625)\"/>\n       </defs>\n       <use xlink:href=\"#DejaVuSans-30\"/>\n       <use xlink:href=\"#DejaVuSans-2e\" x=\"63.623047\"/>\n       <use xlink:href=\"#DejaVuSans-39\" x=\"95.410156\"/>\n      </g>\n     </g>\n    </g>\n   </g>\n   <g id=\"line2d_12\">\n    <path d=\"M 34.923295 13.5 \n\" clip-path=\"url(#p3d93e933c4)\" style=\"fill: none; stroke: #1f77b4; stroke-width: 1.5; stroke-linecap: square\"/>\n   </g>\n   <g id=\"line2d_13\">\n    <path d=\"M 34.923295 13.5 \nL 44.646742 83.741027 \n\" clip-path=\"url(#p3d93e933c4)\" style=\"fill: none; stroke: #1f77b4; stroke-width: 1.5; stroke-linecap: square\"/>\n   </g>\n   <g id=\"line2d_14\">\n    <path d=\"M 34.923295 13.5 \nL 44.646742 83.741027 \n\" clip-path=\"url(#p3d93e933c4)\" style=\"fill: none; stroke: #1f77b4; stroke-width: 1.5; stroke-linecap: square\"/>\n   </g>\n   <g id=\"line2d_15\">\n    <path d=\"M 49.633125 80.731465 \n\" clip-path=\"url(#p3d93e933c4)\" style=\"fill: none; stroke-dasharray: 5.55,2.4; stroke-dashoffset: 0; stroke: #ff7f0e; stroke-width: 1.5\"/>\n   </g>\n   <g id=\"line2d_16\"/>\n   <g id=\"line2d_17\">\n    <path d=\"M 34.923295 13.5 \nL 44.646742 83.741027 \n\" clip-path=\"url(#p3d93e933c4)\" style=\"fill: none; stroke: #1f77b4; stroke-width: 1.5; stroke-linecap: square\"/>\n   </g>\n   <g id=\"line2d_18\">\n    <path d=\"M 49.633125 80.731465 \n\" clip-path=\"url(#p3d93e933c4)\" style=\"fill: none; stroke-dasharray: 5.55,2.4; stroke-dashoffset: 0; stroke: #ff7f0e; stroke-width: 1.5\"/>\n   </g>\n   <g id=\"line2d_19\">\n    <path d=\"M 49.633125 54.131858 \n\" clip-path=\"url(#p3d93e933c4)\" style=\"fill: none; stroke-dasharray: 9.6,2.4,1.5,2.4; stroke-dashoffset: 0; stroke: #2ca02c; stroke-width: 1.5\"/>\n   </g>\n   <g id=\"line2d_20\">\n    <path d=\"M 34.923295 13.5 \nL 44.646742 83.741027 \nL 54.370189 101.95054 \n\" clip-path=\"url(#p3d93e933c4)\" style=\"fill: none; stroke: #1f77b4; stroke-width: 1.5; stroke-linecap: square\"/>\n   </g>\n   <g id=\"line2d_21\">\n    <path d=\"M 49.633125 80.731465 \n\" clip-path=\"url(#p3d93e933c4)\" style=\"fill: none; stroke-dasharray: 5.55,2.4; stroke-dashoffset: 0; stroke: #ff7f0e; stroke-width: 1.5\"/>\n   </g>\n   <g id=\"line2d_22\">\n    <path d=\"M 49.633125 54.131858 \n\" clip-path=\"url(#p3d93e933c4)\" style=\"fill: none; stroke-dasharray: 9.6,2.4,1.5,2.4; stroke-dashoffset: 0; stroke: #2ca02c; stroke-width: 1.5\"/>\n   </g>\n   <g id=\"line2d_23\">\n    <path d=\"M 34.923295 13.5 \nL 44.646742 83.741027 \nL 54.370189 101.95054 \nL 64.093636 109.022536 \n\" clip-path=\"url(#p3d93e933c4)\" style=\"fill: none; stroke: #1f77b4; stroke-width: 1.5; stroke-linecap: square\"/>\n   </g>\n   <g id=\"line2d_24\">\n    <path d=\"M 49.633125 80.731465 \n\" clip-path=\"url(#p3d93e933c4)\" style=\"fill: none; stroke-dasharray: 5.55,2.4; stroke-dashoffset: 0; stroke: #ff7f0e; stroke-width: 1.5\"/>\n   </g>\n   <g id=\"line2d_25\">\n    <path d=\"M 49.633125 54.131858 \n\" clip-path=\"url(#p3d93e933c4)\" style=\"fill: none; stroke-dasharray: 9.6,2.4,1.5,2.4; stroke-dashoffset: 0; stroke: #2ca02c; stroke-width: 1.5\"/>\n   </g>\n   <g id=\"line2d_26\">\n    <path d=\"M 34.923295 13.5 \nL 44.646742 83.741027 \nL 54.370189 101.95054 \nL 64.093636 109.022536 \n\" clip-path=\"url(#p3d93e933c4)\" style=\"fill: none; stroke: #1f77b4; stroke-width: 1.5; stroke-linecap: square\"/>\n   </g>\n   <g id=\"line2d_27\">\n    <path d=\"M 49.633125 80.731465 \nL 69.163125 108.083727 \n\" clip-path=\"url(#p3d93e933c4)\" style=\"fill: none; stroke-dasharray: 5.55,2.4; stroke-dashoffset: 0; stroke: #ff7f0e; stroke-width: 1.5\"/>\n   </g>\n   <g id=\"line2d_28\">\n    <path d=\"M 49.633125 54.131858 \n\" clip-path=\"url(#p3d93e933c4)\" style=\"fill: none; stroke-dasharray: 9.6,2.4,1.5,2.4; stroke-dashoffset: 0; stroke: #2ca02c; stroke-width: 1.5\"/>\n   </g>\n   <g id=\"line2d_29\">\n    <path d=\"M 34.923295 13.5 \nL 44.646742 83.741027 \nL 54.370189 101.95054 \nL 64.093636 109.022536 \n\" clip-path=\"url(#p3d93e933c4)\" style=\"fill: none; stroke: #1f77b4; stroke-width: 1.5; stroke-linecap: square\"/>\n   </g>\n   <g id=\"line2d_30\">\n    <path d=\"M 49.633125 80.731465 \nL 69.163125 108.083727 \n\" clip-path=\"url(#p3d93e933c4)\" style=\"fill: none; stroke-dasharray: 5.55,2.4; stroke-dashoffset: 0; stroke: #ff7f0e; stroke-width: 1.5\"/>\n   </g>\n   <g id=\"line2d_31\">\n    <path d=\"M 49.633125 54.131858 \nL 69.163125 41.211238 \n\" clip-path=\"url(#p3d93e933c4)\" style=\"fill: none; stroke-dasharray: 9.6,2.4,1.5,2.4; stroke-dashoffset: 0; stroke: #2ca02c; stroke-width: 1.5\"/>\n   </g>\n   <g id=\"line2d_32\">\n    <path d=\"M 34.923295 13.5 \nL 44.646742 83.741027 \nL 54.370189 101.95054 \nL 64.093636 109.022536 \nL 73.817082 115.968804 \n\" clip-path=\"url(#p3d93e933c4)\" style=\"fill: none; stroke: #1f77b4; stroke-width: 1.5; stroke-linecap: square\"/>\n   </g>\n   <g id=\"line2d_33\">\n    <path d=\"M 49.633125 80.731465 \nL 69.163125 108.083727 \n\" clip-path=\"url(#p3d93e933c4)\" style=\"fill: none; stroke-dasharray: 5.55,2.4; stroke-dashoffset: 0; stroke: #ff7f0e; stroke-width: 1.5\"/>\n   </g>\n   <g id=\"line2d_34\">\n    <path d=\"M 49.633125 54.131858 \nL 69.163125 41.211238 \n\" clip-path=\"url(#p3d93e933c4)\" style=\"fill: none; stroke-dasharray: 9.6,2.4,1.5,2.4; stroke-dashoffset: 0; stroke: #2ca02c; stroke-width: 1.5\"/>\n   </g>\n   <g id=\"line2d_35\">\n    <path d=\"M 34.923295 13.5 \nL 44.646742 83.741027 \nL 54.370189 101.95054 \nL 64.093636 109.022536 \nL 73.817082 115.968804 \nL 83.540529 120.295765 \n\" clip-path=\"url(#p3d93e933c4)\" style=\"fill: none; stroke: #1f77b4; stroke-width: 1.5; stroke-linecap: square\"/>\n   </g>\n   <g id=\"line2d_36\">\n    <path d=\"M 49.633125 80.731465 \nL 69.163125 108.083727 \n\" clip-path=\"url(#p3d93e933c4)\" style=\"fill: none; stroke-dasharray: 5.55,2.4; stroke-dashoffset: 0; stroke: #ff7f0e; stroke-width: 1.5\"/>\n   </g>\n   <g id=\"line2d_37\">\n    <path d=\"M 49.633125 54.131858 \nL 69.163125 41.211238 \n\" clip-path=\"url(#p3d93e933c4)\" style=\"fill: none; stroke-dasharray: 9.6,2.4,1.5,2.4; stroke-dashoffset: 0; stroke: #2ca02c; stroke-width: 1.5\"/>\n   </g>\n   <g id=\"line2d_38\">\n    <path d=\"M 34.923295 13.5 \nL 44.646742 83.741027 \nL 54.370189 101.95054 \nL 64.093636 109.022536 \nL 73.817082 115.968804 \nL 83.540529 120.295765 \n\" clip-path=\"url(#p3d93e933c4)\" style=\"fill: none; stroke: #1f77b4; stroke-width: 1.5; stroke-linecap: square\"/>\n   </g>\n   <g id=\"line2d_39\">\n    <path d=\"M 49.633125 80.731465 \nL 69.163125 108.083727 \nL 88.693125 114.182432 \n\" clip-path=\"url(#p3d93e933c4)\" style=\"fill: none; stroke-dasharray: 5.55,2.4; stroke-dashoffset: 0; stroke: #ff7f0e; stroke-width: 1.5\"/>\n   </g>\n   <g id=\"line2d_40\">\n    <path d=\"M 49.633125 54.131858 \nL 69.163125 41.211238 \n\" clip-path=\"url(#p3d93e933c4)\" style=\"fill: none; stroke-dasharray: 9.6,2.4,1.5,2.4; stroke-dashoffset: 0; stroke: #2ca02c; stroke-width: 1.5\"/>\n   </g>\n   <g id=\"line2d_41\">\n    <path d=\"M 34.923295 13.5 \nL 44.646742 83.741027 \nL 54.370189 101.95054 \nL 64.093636 109.022536 \nL 73.817082 115.968804 \nL 83.540529 120.295765 \n\" clip-path=\"url(#p3d93e933c4)\" style=\"fill: none; stroke: #1f77b4; stroke-width: 1.5; stroke-linecap: square\"/>\n   </g>\n   <g id=\"line2d_42\">\n    <path d=\"M 49.633125 80.731465 \nL 69.163125 108.083727 \nL 88.693125 114.182432 \n\" clip-path=\"url(#p3d93e933c4)\" style=\"fill: none; stroke-dasharray: 5.55,2.4; stroke-dashoffset: 0; stroke: #ff7f0e; stroke-width: 1.5\"/>\n   </g>\n   <g id=\"line2d_43\">\n    <path d=\"M 49.633125 54.131858 \nL 69.163125 41.211238 \nL 88.693125 39.436284 \n\" clip-path=\"url(#p3d93e933c4)\" style=\"fill: none; stroke-dasharray: 9.6,2.4,1.5,2.4; stroke-dashoffset: 0; stroke: #2ca02c; stroke-width: 1.5\"/>\n   </g>\n   <g id=\"line2d_44\">\n    <path d=\"M 34.923295 13.5 \nL 44.646742 83.741027 \nL 54.370189 101.95054 \nL 64.093636 109.022536 \nL 73.817082 115.968804 \nL 83.540529 120.295765 \nL 93.263976 124.901627 \n\" clip-path=\"url(#p3d93e933c4)\" style=\"fill: none; stroke: #1f77b4; stroke-width: 1.5; stroke-linecap: square\"/>\n   </g>\n   <g id=\"line2d_45\">\n    <path d=\"M 49.633125 80.731465 \nL 69.163125 108.083727 \nL 88.693125 114.182432 \n\" clip-path=\"url(#p3d93e933c4)\" style=\"fill: none; stroke-dasharray: 5.55,2.4; stroke-dashoffset: 0; stroke: #ff7f0e; stroke-width: 1.5\"/>\n   </g>\n   <g id=\"line2d_46\">\n    <path d=\"M 49.633125 54.131858 \nL 69.163125 41.211238 \nL 88.693125 39.436284 \n\" clip-path=\"url(#p3d93e933c4)\" style=\"fill: none; stroke-dasharray: 9.6,2.4,1.5,2.4; stroke-dashoffset: 0; stroke: #2ca02c; stroke-width: 1.5\"/>\n   </g>\n   <g id=\"line2d_47\">\n    <path d=\"M 34.923295 13.5 \nL 44.646742 83.741027 \nL 54.370189 101.95054 \nL 64.093636 109.022536 \nL 73.817082 115.968804 \nL 83.540529 120.295765 \nL 93.263976 124.901627 \nL 102.987423 123.113996 \n\" clip-path=\"url(#p3d93e933c4)\" style=\"fill: none; stroke: #1f77b4; stroke-width: 1.5; stroke-linecap: square\"/>\n   </g>\n   <g id=\"line2d_48\">\n    <path d=\"M 49.633125 80.731465 \nL 69.163125 108.083727 \nL 88.693125 114.182432 \n\" clip-path=\"url(#p3d93e933c4)\" style=\"fill: none; stroke-dasharray: 5.55,2.4; stroke-dashoffset: 0; stroke: #ff7f0e; stroke-width: 1.5\"/>\n   </g>\n   <g id=\"line2d_49\">\n    <path d=\"M 49.633125 54.131858 \nL 69.163125 41.211238 \nL 88.693125 39.436284 \n\" clip-path=\"url(#p3d93e933c4)\" style=\"fill: none; stroke-dasharray: 9.6,2.4,1.5,2.4; stroke-dashoffset: 0; stroke: #2ca02c; stroke-width: 1.5\"/>\n   </g>\n   <g id=\"line2d_50\">\n    <path d=\"M 34.923295 13.5 \nL 44.646742 83.741027 \nL 54.370189 101.95054 \nL 64.093636 109.022536 \nL 73.817082 115.968804 \nL 83.540529 120.295765 \nL 93.263976 124.901627 \nL 102.987423 123.113996 \n\" clip-path=\"url(#p3d93e933c4)\" style=\"fill: none; stroke: #1f77b4; stroke-width: 1.5; stroke-linecap: square\"/>\n   </g>\n   <g id=\"line2d_51\">\n    <path d=\"M 49.633125 80.731465 \nL 69.163125 108.083727 \nL 88.693125 114.182432 \nL 108.223125 92.815409 \n\" clip-path=\"url(#p3d93e933c4)\" style=\"fill: none; stroke-dasharray: 5.55,2.4; stroke-dashoffset: 0; stroke: #ff7f0e; stroke-width: 1.5\"/>\n   </g>\n   <g id=\"line2d_52\">\n    <path d=\"M 49.633125 54.131858 \nL 69.163125 41.211238 \nL 88.693125 39.436284 \n\" clip-path=\"url(#p3d93e933c4)\" style=\"fill: none; stroke-dasharray: 9.6,2.4,1.5,2.4; stroke-dashoffset: 0; stroke: #2ca02c; stroke-width: 1.5\"/>\n   </g>\n   <g id=\"line2d_53\">\n    <path d=\"M 34.923295 13.5 \nL 44.646742 83.741027 \nL 54.370189 101.95054 \nL 64.093636 109.022536 \nL 73.817082 115.968804 \nL 83.540529 120.295765 \nL 93.263976 124.901627 \nL 102.987423 123.113996 \n\" clip-path=\"url(#p3d93e933c4)\" style=\"fill: none; stroke: #1f77b4; stroke-width: 1.5; stroke-linecap: square\"/>\n   </g>\n   <g id=\"line2d_54\">\n    <path d=\"M 49.633125 80.731465 \nL 69.163125 108.083727 \nL 88.693125 114.182432 \nL 108.223125 92.815409 \n\" clip-path=\"url(#p3d93e933c4)\" style=\"fill: none; stroke-dasharray: 5.55,2.4; stroke-dashoffset: 0; stroke: #ff7f0e; stroke-width: 1.5\"/>\n   </g>\n   <g id=\"line2d_55\">\n    <path d=\"M 49.633125 54.131858 \nL 69.163125 41.211238 \nL 88.693125 39.436284 \nL 108.223125 54.210165 \n\" clip-path=\"url(#p3d93e933c4)\" style=\"fill: none; stroke-dasharray: 9.6,2.4,1.5,2.4; stroke-dashoffset: 0; stroke: #2ca02c; stroke-width: 1.5\"/>\n   </g>\n   <g id=\"line2d_56\">\n    <path d=\"M 34.923295 13.5 \nL 44.646742 83.741027 \nL 54.370189 101.95054 \nL 64.093636 109.022536 \nL 73.817082 115.968804 \nL 83.540529 120.295765 \nL 93.263976 124.901627 \nL 102.987423 123.113996 \nL 112.71087 126.446887 \n\" clip-path=\"url(#p3d93e933c4)\" style=\"fill: none; stroke: #1f77b4; stroke-width: 1.5; stroke-linecap: square\"/>\n   </g>\n   <g id=\"line2d_57\">\n    <path d=\"M 49.633125 80.731465 \nL 69.163125 108.083727 \nL 88.693125 114.182432 \nL 108.223125 92.815409 \n\" clip-path=\"url(#p3d93e933c4)\" style=\"fill: none; stroke-dasharray: 5.55,2.4; stroke-dashoffset: 0; stroke: #ff7f0e; stroke-width: 1.5\"/>\n   </g>\n   <g id=\"line2d_58\">\n    <path d=\"M 49.633125 54.131858 \nL 69.163125 41.211238 \nL 88.693125 39.436284 \nL 108.223125 54.210165 \n\" clip-path=\"url(#p3d93e933c4)\" style=\"fill: none; stroke-dasharray: 9.6,2.4,1.5,2.4; stroke-dashoffset: 0; stroke: #2ca02c; stroke-width: 1.5\"/>\n   </g>\n   <g id=\"line2d_59\">\n    <path d=\"M 34.923295 13.5 \nL 44.646742 83.741027 \nL 54.370189 101.95054 \nL 64.093636 109.022536 \nL 73.817082 115.968804 \nL 83.540529 120.295765 \nL 93.263976 124.901627 \nL 102.987423 123.113996 \nL 112.71087 126.446887 \nL 122.434316 129.231946 \n\" clip-path=\"url(#p3d93e933c4)\" style=\"fill: none; stroke: #1f77b4; stroke-width: 1.5; stroke-linecap: square\"/>\n   </g>\n   <g id=\"line2d_60\">\n    <path d=\"M 49.633125 80.731465 \nL 69.163125 108.083727 \nL 88.693125 114.182432 \nL 108.223125 92.815409 \n\" clip-path=\"url(#p3d93e933c4)\" style=\"fill: none; stroke-dasharray: 5.55,2.4; stroke-dashoffset: 0; stroke: #ff7f0e; stroke-width: 1.5\"/>\n   </g>\n   <g id=\"line2d_61\">\n    <path d=\"M 49.633125 54.131858 \nL 69.163125 41.211238 \nL 88.693125 39.436284 \nL 108.223125 54.210165 \n\" clip-path=\"url(#p3d93e933c4)\" style=\"fill: none; stroke-dasharray: 9.6,2.4,1.5,2.4; stroke-dashoffset: 0; stroke: #2ca02c; stroke-width: 1.5\"/>\n   </g>\n   <g id=\"line2d_62\">\n    <path d=\"M 34.923295 13.5 \nL 44.646742 83.741027 \nL 54.370189 101.95054 \nL 64.093636 109.022536 \nL 73.817082 115.968804 \nL 83.540529 120.295765 \nL 93.263976 124.901627 \nL 102.987423 123.113996 \nL 112.71087 126.446887 \nL 122.434316 129.231946 \n\" clip-path=\"url(#p3d93e933c4)\" style=\"fill: none; stroke: #1f77b4; stroke-width: 1.5; stroke-linecap: square\"/>\n   </g>\n   <g id=\"line2d_63\">\n    <path d=\"M 49.633125 80.731465 \nL 69.163125 108.083727 \nL 88.693125 114.182432 \nL 108.223125 92.815409 \nL 127.753125 121.340839 \n\" clip-path=\"url(#p3d93e933c4)\" style=\"fill: none; stroke-dasharray: 5.55,2.4; stroke-dashoffset: 0; stroke: #ff7f0e; stroke-width: 1.5\"/>\n   </g>\n   <g id=\"line2d_64\">\n    <path d=\"M 49.633125 54.131858 \nL 69.163125 41.211238 \nL 88.693125 39.436284 \nL 108.223125 54.210165 \n\" clip-path=\"url(#p3d93e933c4)\" style=\"fill: none; stroke-dasharray: 9.6,2.4,1.5,2.4; stroke-dashoffset: 0; stroke: #2ca02c; stroke-width: 1.5\"/>\n   </g>\n   <g id=\"line2d_65\">\n    <path d=\"M 34.923295 13.5 \nL 44.646742 83.741027 \nL 54.370189 101.95054 \nL 64.093636 109.022536 \nL 73.817082 115.968804 \nL 83.540529 120.295765 \nL 93.263976 124.901627 \nL 102.987423 123.113996 \nL 112.71087 126.446887 \nL 122.434316 129.231946 \n\" clip-path=\"url(#p3d93e933c4)\" style=\"fill: none; stroke: #1f77b4; stroke-width: 1.5; stroke-linecap: square\"/>\n   </g>\n   <g id=\"line2d_66\">\n    <path d=\"M 49.633125 80.731465 \nL 69.163125 108.083727 \nL 88.693125 114.182432 \nL 108.223125 92.815409 \nL 127.753125 121.340839 \n\" clip-path=\"url(#p3d93e933c4)\" style=\"fill: none; stroke-dasharray: 5.55,2.4; stroke-dashoffset: 0; stroke: #ff7f0e; stroke-width: 1.5\"/>\n   </g>\n   <g id=\"line2d_67\">\n    <path d=\"M 49.633125 54.131858 \nL 69.163125 41.211238 \nL 88.693125 39.436284 \nL 108.223125 54.210165 \nL 127.753125 38.940341 \n\" clip-path=\"url(#p3d93e933c4)\" style=\"fill: none; stroke-dasharray: 9.6,2.4,1.5,2.4; stroke-dashoffset: 0; stroke: #2ca02c; stroke-width: 1.5\"/>\n   </g>\n   <g id=\"line2d_68\">\n    <path d=\"M 34.923295 13.5 \nL 44.646742 83.741027 \nL 54.370189 101.95054 \nL 64.093636 109.022536 \nL 73.817082 115.968804 \nL 83.540529 120.295765 \nL 93.263976 124.901627 \nL 102.987423 123.113996 \nL 112.71087 126.446887 \nL 122.434316 129.231946 \nL 132.157763 131.194804 \n\" clip-path=\"url(#p3d93e933c4)\" style=\"fill: none; stroke: #1f77b4; stroke-width: 1.5; stroke-linecap: square\"/>\n   </g>\n   <g id=\"line2d_69\">\n    <path d=\"M 49.633125 80.731465 \nL 69.163125 108.083727 \nL 88.693125 114.182432 \nL 108.223125 92.815409 \nL 127.753125 121.340839 \n\" clip-path=\"url(#p3d93e933c4)\" style=\"fill: none; stroke-dasharray: 5.55,2.4; stroke-dashoffset: 0; stroke: #ff7f0e; stroke-width: 1.5\"/>\n   </g>\n   <g id=\"line2d_70\">\n    <path d=\"M 49.633125 54.131858 \nL 69.163125 41.211238 \nL 88.693125 39.436284 \nL 108.223125 54.210165 \nL 127.753125 38.940341 \n\" clip-path=\"url(#p3d93e933c4)\" style=\"fill: none; stroke-dasharray: 9.6,2.4,1.5,2.4; stroke-dashoffset: 0; stroke: #2ca02c; stroke-width: 1.5\"/>\n   </g>\n   <g id=\"line2d_71\">\n    <path d=\"M 34.923295 13.5 \nL 44.646742 83.741027 \nL 54.370189 101.95054 \nL 64.093636 109.022536 \nL 73.817082 115.968804 \nL 83.540529 120.295765 \nL 93.263976 124.901627 \nL 102.987423 123.113996 \nL 112.71087 126.446887 \nL 122.434316 129.231946 \nL 132.157763 131.194804 \nL 141.88121 132.202626 \n\" clip-path=\"url(#p3d93e933c4)\" style=\"fill: none; stroke: #1f77b4; stroke-width: 1.5; stroke-linecap: square\"/>\n   </g>\n   <g id=\"line2d_72\">\n    <path d=\"M 49.633125 80.731465 \nL 69.163125 108.083727 \nL 88.693125 114.182432 \nL 108.223125 92.815409 \nL 127.753125 121.340839 \n\" clip-path=\"url(#p3d93e933c4)\" style=\"fill: none; stroke-dasharray: 5.55,2.4; stroke-dashoffset: 0; stroke: #ff7f0e; stroke-width: 1.5\"/>\n   </g>\n   <g id=\"line2d_73\">\n    <path d=\"M 49.633125 54.131858 \nL 69.163125 41.211238 \nL 88.693125 39.436284 \nL 108.223125 54.210165 \nL 127.753125 38.940341 \n\" clip-path=\"url(#p3d93e933c4)\" style=\"fill: none; stroke-dasharray: 9.6,2.4,1.5,2.4; stroke-dashoffset: 0; stroke: #2ca02c; stroke-width: 1.5\"/>\n   </g>\n   <g id=\"line2d_74\">\n    <path d=\"M 34.923295 13.5 \nL 44.646742 83.741027 \nL 54.370189 101.95054 \nL 64.093636 109.022536 \nL 73.817082 115.968804 \nL 83.540529 120.295765 \nL 93.263976 124.901627 \nL 102.987423 123.113996 \nL 112.71087 126.446887 \nL 122.434316 129.231946 \nL 132.157763 131.194804 \nL 141.88121 132.202626 \n\" clip-path=\"url(#p3d93e933c4)\" style=\"fill: none; stroke: #1f77b4; stroke-width: 1.5; stroke-linecap: square\"/>\n   </g>\n   <g id=\"line2d_75\">\n    <path d=\"M 49.633125 80.731465 \nL 69.163125 108.083727 \nL 88.693125 114.182432 \nL 108.223125 92.815409 \nL 127.753125 121.340839 \nL 147.283125 125.207101 \n\" clip-path=\"url(#p3d93e933c4)\" style=\"fill: none; stroke-dasharray: 5.55,2.4; stroke-dashoffset: 0; stroke: #ff7f0e; stroke-width: 1.5\"/>\n   </g>\n   <g id=\"line2d_76\">\n    <path d=\"M 49.633125 54.131858 \nL 69.163125 41.211238 \nL 88.693125 39.436284 \nL 108.223125 54.210165 \nL 127.753125 38.940341 \n\" clip-path=\"url(#p3d93e933c4)\" style=\"fill: none; stroke-dasharray: 9.6,2.4,1.5,2.4; stroke-dashoffset: 0; stroke: #2ca02c; stroke-width: 1.5\"/>\n   </g>\n   <g id=\"line2d_77\">\n    <path d=\"M 34.923295 13.5 \nL 44.646742 83.741027 \nL 54.370189 101.95054 \nL 64.093636 109.022536 \nL 73.817082 115.968804 \nL 83.540529 120.295765 \nL 93.263976 124.901627 \nL 102.987423 123.113996 \nL 112.71087 126.446887 \nL 122.434316 129.231946 \nL 132.157763 131.194804 \nL 141.88121 132.202626 \n\" clip-path=\"url(#p3d93e933c4)\" style=\"fill: none; stroke: #1f77b4; stroke-width: 1.5; stroke-linecap: square\"/>\n   </g>\n   <g id=\"line2d_78\">\n    <path d=\"M 49.633125 80.731465 \nL 69.163125 108.083727 \nL 88.693125 114.182432 \nL 108.223125 92.815409 \nL 127.753125 121.340839 \nL 147.283125 125.207101 \n\" clip-path=\"url(#p3d93e933c4)\" style=\"fill: none; stroke-dasharray: 5.55,2.4; stroke-dashoffset: 0; stroke: #ff7f0e; stroke-width: 1.5\"/>\n   </g>\n   <g id=\"line2d_79\">\n    <path d=\"M 49.633125 54.131858 \nL 69.163125 41.211238 \nL 88.693125 39.436284 \nL 108.223125 54.210165 \nL 127.753125 38.940341 \nL 147.283125 37.295898 \n\" clip-path=\"url(#p3d93e933c4)\" style=\"fill: none; stroke-dasharray: 9.6,2.4,1.5,2.4; stroke-dashoffset: 0; stroke: #2ca02c; stroke-width: 1.5\"/>\n   </g>\n   <g id=\"line2d_80\">\n    <path d=\"M 34.923295 13.5 \nL 44.646742 83.741027 \nL 54.370189 101.95054 \nL 64.093636 109.022536 \nL 73.817082 115.968804 \nL 83.540529 120.295765 \nL 93.263976 124.901627 \nL 102.987423 123.113996 \nL 112.71087 126.446887 \nL 122.434316 129.231946 \nL 132.157763 131.194804 \nL 141.88121 132.202626 \nL 151.604657 132.831705 \n\" clip-path=\"url(#p3d93e933c4)\" style=\"fill: none; stroke: #1f77b4; stroke-width: 1.5; stroke-linecap: square\"/>\n   </g>\n   <g id=\"line2d_81\">\n    <path d=\"M 49.633125 80.731465 \nL 69.163125 108.083727 \nL 88.693125 114.182432 \nL 108.223125 92.815409 \nL 127.753125 121.340839 \nL 147.283125 125.207101 \n\" clip-path=\"url(#p3d93e933c4)\" style=\"fill: none; stroke-dasharray: 5.55,2.4; stroke-dashoffset: 0; stroke: #ff7f0e; stroke-width: 1.5\"/>\n   </g>\n   <g id=\"line2d_82\">\n    <path d=\"M 49.633125 54.131858 \nL 69.163125 41.211238 \nL 88.693125 39.436284 \nL 108.223125 54.210165 \nL 127.753125 38.940341 \nL 147.283125 37.295898 \n\" clip-path=\"url(#p3d93e933c4)\" style=\"fill: none; stroke-dasharray: 9.6,2.4,1.5,2.4; stroke-dashoffset: 0; stroke: #2ca02c; stroke-width: 1.5\"/>\n   </g>\n   <g id=\"line2d_83\">\n    <path d=\"M 34.923295 13.5 \nL 44.646742 83.741027 \nL 54.370189 101.95054 \nL 64.093636 109.022536 \nL 73.817082 115.968804 \nL 83.540529 120.295765 \nL 93.263976 124.901627 \nL 102.987423 123.113996 \nL 112.71087 126.446887 \nL 122.434316 129.231946 \nL 132.157763 131.194804 \nL 141.88121 132.202626 \nL 151.604657 132.831705 \nL 161.328104 134.239631 \n\" clip-path=\"url(#p3d93e933c4)\" style=\"fill: none; stroke: #1f77b4; stroke-width: 1.5; stroke-linecap: square\"/>\n   </g>\n   <g id=\"line2d_84\">\n    <path d=\"M 49.633125 80.731465 \nL 69.163125 108.083727 \nL 88.693125 114.182432 \nL 108.223125 92.815409 \nL 127.753125 121.340839 \nL 147.283125 125.207101 \n\" clip-path=\"url(#p3d93e933c4)\" style=\"fill: none; stroke-dasharray: 5.55,2.4; stroke-dashoffset: 0; stroke: #ff7f0e; stroke-width: 1.5\"/>\n   </g>\n   <g id=\"line2d_85\">\n    <path d=\"M 49.633125 54.131858 \nL 69.163125 41.211238 \nL 88.693125 39.436284 \nL 108.223125 54.210165 \nL 127.753125 38.940341 \nL 147.283125 37.295898 \n\" clip-path=\"url(#p3d93e933c4)\" style=\"fill: none; stroke-dasharray: 9.6,2.4,1.5,2.4; stroke-dashoffset: 0; stroke: #2ca02c; stroke-width: 1.5\"/>\n   </g>\n   <g id=\"line2d_86\">\n    <path d=\"M 34.923295 13.5 \nL 44.646742 83.741027 \nL 54.370189 101.95054 \nL 64.093636 109.022536 \nL 73.817082 115.968804 \nL 83.540529 120.295765 \nL 93.263976 124.901627 \nL 102.987423 123.113996 \nL 112.71087 126.446887 \nL 122.434316 129.231946 \nL 132.157763 131.194804 \nL 141.88121 132.202626 \nL 151.604657 132.831705 \nL 161.328104 134.239631 \n\" clip-path=\"url(#p3d93e933c4)\" style=\"fill: none; stroke: #1f77b4; stroke-width: 1.5; stroke-linecap: square\"/>\n   </g>\n   <g id=\"line2d_87\">\n    <path d=\"M 49.633125 80.731465 \nL 69.163125 108.083727 \nL 88.693125 114.182432 \nL 108.223125 92.815409 \nL 127.753125 121.340839 \nL 147.283125 125.207101 \nL 166.813125 126.757585 \n\" clip-path=\"url(#p3d93e933c4)\" style=\"fill: none; stroke-dasharray: 5.55,2.4; stroke-dashoffset: 0; stroke: #ff7f0e; stroke-width: 1.5\"/>\n   </g>\n   <g id=\"line2d_88\">\n    <path d=\"M 49.633125 54.131858 \nL 69.163125 41.211238 \nL 88.693125 39.436284 \nL 108.223125 54.210165 \nL 127.753125 38.940341 \nL 147.283125 37.295898 \n\" clip-path=\"url(#p3d93e933c4)\" style=\"fill: none; stroke-dasharray: 9.6,2.4,1.5,2.4; stroke-dashoffset: 0; stroke: #2ca02c; stroke-width: 1.5\"/>\n   </g>\n   <g id=\"line2d_89\">\n    <path d=\"M 34.923295 13.5 \nL 44.646742 83.741027 \nL 54.370189 101.95054 \nL 64.093636 109.022536 \nL 73.817082 115.968804 \nL 83.540529 120.295765 \nL 93.263976 124.901627 \nL 102.987423 123.113996 \nL 112.71087 126.446887 \nL 122.434316 129.231946 \nL 132.157763 131.194804 \nL 141.88121 132.202626 \nL 151.604657 132.831705 \nL 161.328104 134.239631 \n\" clip-path=\"url(#p3d93e933c4)\" style=\"fill: none; stroke: #1f77b4; stroke-width: 1.5; stroke-linecap: square\"/>\n   </g>\n   <g id=\"line2d_90\">\n    <path d=\"M 49.633125 80.731465 \nL 69.163125 108.083727 \nL 88.693125 114.182432 \nL 108.223125 92.815409 \nL 127.753125 121.340839 \nL 147.283125 125.207101 \nL 166.813125 126.757585 \n\" clip-path=\"url(#p3d93e933c4)\" style=\"fill: none; stroke-dasharray: 5.55,2.4; stroke-dashoffset: 0; stroke: #ff7f0e; stroke-width: 1.5\"/>\n   </g>\n   <g id=\"line2d_91\">\n    <path d=\"M 49.633125 54.131858 \nL 69.163125 41.211238 \nL 88.693125 39.436284 \nL 108.223125 54.210165 \nL 127.753125 38.940341 \nL 147.283125 37.295898 \nL 166.813125 36.669444 \n\" clip-path=\"url(#p3d93e933c4)\" style=\"fill: none; stroke-dasharray: 9.6,2.4,1.5,2.4; stroke-dashoffset: 0; stroke: #2ca02c; stroke-width: 1.5\"/>\n   </g>\n   <g id=\"line2d_92\">\n    <path d=\"M 34.923295 13.5 \nL 44.646742 83.741027 \nL 54.370189 101.95054 \nL 64.093636 109.022536 \nL 73.817082 115.968804 \nL 83.540529 120.295765 \nL 93.263976 124.901627 \nL 102.987423 123.113996 \nL 112.71087 126.446887 \nL 122.434316 129.231946 \nL 132.157763 131.194804 \nL 141.88121 132.202626 \nL 151.604657 132.831705 \nL 161.328104 134.239631 \nL 171.051551 135.864641 \n\" clip-path=\"url(#p3d93e933c4)\" style=\"fill: none; stroke: #1f77b4; stroke-width: 1.5; stroke-linecap: square\"/>\n   </g>\n   <g id=\"line2d_93\">\n    <path d=\"M 49.633125 80.731465 \nL 69.163125 108.083727 \nL 88.693125 114.182432 \nL 108.223125 92.815409 \nL 127.753125 121.340839 \nL 147.283125 125.207101 \nL 166.813125 126.757585 \n\" clip-path=\"url(#p3d93e933c4)\" style=\"fill: none; stroke-dasharray: 5.55,2.4; stroke-dashoffset: 0; stroke: #ff7f0e; stroke-width: 1.5\"/>\n   </g>\n   <g id=\"line2d_94\">\n    <path d=\"M 49.633125 54.131858 \nL 69.163125 41.211238 \nL 88.693125 39.436284 \nL 108.223125 54.210165 \nL 127.753125 38.940341 \nL 147.283125 37.295898 \nL 166.813125 36.669444 \n\" clip-path=\"url(#p3d93e933c4)\" style=\"fill: none; stroke-dasharray: 9.6,2.4,1.5,2.4; stroke-dashoffset: 0; stroke: #2ca02c; stroke-width: 1.5\"/>\n   </g>\n   <g id=\"line2d_95\">\n    <path d=\"M 34.923295 13.5 \nL 44.646742 83.741027 \nL 54.370189 101.95054 \nL 64.093636 109.022536 \nL 73.817082 115.968804 \nL 83.540529 120.295765 \nL 93.263976 124.901627 \nL 102.987423 123.113996 \nL 112.71087 126.446887 \nL 122.434316 129.231946 \nL 132.157763 131.194804 \nL 141.88121 132.202626 \nL 151.604657 132.831705 \nL 161.328104 134.239631 \nL 171.051551 135.864641 \nL 180.774997 136.173795 \n\" clip-path=\"url(#p3d93e933c4)\" style=\"fill: none; stroke: #1f77b4; stroke-width: 1.5; stroke-linecap: square\"/>\n   </g>\n   <g id=\"line2d_96\">\n    <path d=\"M 49.633125 80.731465 \nL 69.163125 108.083727 \nL 88.693125 114.182432 \nL 108.223125 92.815409 \nL 127.753125 121.340839 \nL 147.283125 125.207101 \nL 166.813125 126.757585 \n\" clip-path=\"url(#p3d93e933c4)\" style=\"fill: none; stroke-dasharray: 5.55,2.4; stroke-dashoffset: 0; stroke: #ff7f0e; stroke-width: 1.5\"/>\n   </g>\n   <g id=\"line2d_97\">\n    <path d=\"M 49.633125 54.131858 \nL 69.163125 41.211238 \nL 88.693125 39.436284 \nL 108.223125 54.210165 \nL 127.753125 38.940341 \nL 147.283125 37.295898 \nL 166.813125 36.669444 \n\" clip-path=\"url(#p3d93e933c4)\" style=\"fill: none; stroke-dasharray: 9.6,2.4,1.5,2.4; stroke-dashoffset: 0; stroke: #2ca02c; stroke-width: 1.5\"/>\n   </g>\n   <g id=\"line2d_98\">\n    <path d=\"M 34.923295 13.5 \nL 44.646742 83.741027 \nL 54.370189 101.95054 \nL 64.093636 109.022536 \nL 73.817082 115.968804 \nL 83.540529 120.295765 \nL 93.263976 124.901627 \nL 102.987423 123.113996 \nL 112.71087 126.446887 \nL 122.434316 129.231946 \nL 132.157763 131.194804 \nL 141.88121 132.202626 \nL 151.604657 132.831705 \nL 161.328104 134.239631 \nL 171.051551 135.864641 \nL 180.774997 136.173795 \n\" clip-path=\"url(#p3d93e933c4)\" style=\"fill: none; stroke: #1f77b4; stroke-width: 1.5; stroke-linecap: square\"/>\n   </g>\n   <g id=\"line2d_99\">\n    <path d=\"M 49.633125 80.731465 \nL 69.163125 108.083727 \nL 88.693125 114.182432 \nL 108.223125 92.815409 \nL 127.753125 121.340839 \nL 147.283125 125.207101 \nL 166.813125 126.757585 \nL 186.343125 109.38435 \n\" clip-path=\"url(#p3d93e933c4)\" style=\"fill: none; stroke-dasharray: 5.55,2.4; stroke-dashoffset: 0; stroke: #ff7f0e; stroke-width: 1.5\"/>\n   </g>\n   <g id=\"line2d_100\">\n    <path d=\"M 49.633125 54.131858 \nL 69.163125 41.211238 \nL 88.693125 39.436284 \nL 108.223125 54.210165 \nL 127.753125 38.940341 \nL 147.283125 37.295898 \nL 166.813125 36.669444 \n\" clip-path=\"url(#p3d93e933c4)\" style=\"fill: none; stroke-dasharray: 9.6,2.4,1.5,2.4; stroke-dashoffset: 0; stroke: #2ca02c; stroke-width: 1.5\"/>\n   </g>\n   <g id=\"line2d_101\">\n    <path d=\"M 34.923295 13.5 \nL 44.646742 83.741027 \nL 54.370189 101.95054 \nL 64.093636 109.022536 \nL 73.817082 115.968804 \nL 83.540529 120.295765 \nL 93.263976 124.901627 \nL 102.987423 123.113996 \nL 112.71087 126.446887 \nL 122.434316 129.231946 \nL 132.157763 131.194804 \nL 141.88121 132.202626 \nL 151.604657 132.831705 \nL 161.328104 134.239631 \nL 171.051551 135.864641 \nL 180.774997 136.173795 \n\" clip-path=\"url(#p3d93e933c4)\" style=\"fill: none; stroke: #1f77b4; stroke-width: 1.5; stroke-linecap: square\"/>\n   </g>\n   <g id=\"line2d_102\">\n    <path d=\"M 49.633125 80.731465 \nL 69.163125 108.083727 \nL 88.693125 114.182432 \nL 108.223125 92.815409 \nL 127.753125 121.340839 \nL 147.283125 125.207101 \nL 166.813125 126.757585 \nL 186.343125 109.38435 \n\" clip-path=\"url(#p3d93e933c4)\" style=\"fill: none; stroke-dasharray: 5.55,2.4; stroke-dashoffset: 0; stroke: #ff7f0e; stroke-width: 1.5\"/>\n   </g>\n   <g id=\"line2d_103\">\n    <path d=\"M 49.633125 54.131858 \nL 69.163125 41.211238 \nL 88.693125 39.436284 \nL 108.223125 54.210165 \nL 127.753125 38.940341 \nL 147.283125 37.295898 \nL 166.813125 36.669444 \nL 186.343125 44.865555 \n\" clip-path=\"url(#p3d93e933c4)\" style=\"fill: none; stroke-dasharray: 9.6,2.4,1.5,2.4; stroke-dashoffset: 0; stroke: #2ca02c; stroke-width: 1.5\"/>\n   </g>\n   <g id=\"line2d_104\">\n    <path d=\"M 34.923295 13.5 \nL 44.646742 83.741027 \nL 54.370189 101.95054 \nL 64.093636 109.022536 \nL 73.817082 115.968804 \nL 83.540529 120.295765 \nL 93.263976 124.901627 \nL 102.987423 123.113996 \nL 112.71087 126.446887 \nL 122.434316 129.231946 \nL 132.157763 131.194804 \nL 141.88121 132.202626 \nL 151.604657 132.831705 \nL 161.328104 134.239631 \nL 171.051551 135.864641 \nL 180.774997 136.173795 \nL 190.498444 134.369594 \n\" clip-path=\"url(#p3d93e933c4)\" style=\"fill: none; stroke: #1f77b4; stroke-width: 1.5; stroke-linecap: square\"/>\n   </g>\n   <g id=\"line2d_105\">\n    <path d=\"M 49.633125 80.731465 \nL 69.163125 108.083727 \nL 88.693125 114.182432 \nL 108.223125 92.815409 \nL 127.753125 121.340839 \nL 147.283125 125.207101 \nL 166.813125 126.757585 \nL 186.343125 109.38435 \n\" clip-path=\"url(#p3d93e933c4)\" style=\"fill: none; stroke-dasharray: 5.55,2.4; stroke-dashoffset: 0; stroke: #ff7f0e; stroke-width: 1.5\"/>\n   </g>\n   <g id=\"line2d_106\">\n    <path d=\"M 49.633125 54.131858 \nL 69.163125 41.211238 \nL 88.693125 39.436284 \nL 108.223125 54.210165 \nL 127.753125 38.940341 \nL 147.283125 37.295898 \nL 166.813125 36.669444 \nL 186.343125 44.865555 \n\" clip-path=\"url(#p3d93e933c4)\" style=\"fill: none; stroke-dasharray: 9.6,2.4,1.5,2.4; stroke-dashoffset: 0; stroke: #2ca02c; stroke-width: 1.5\"/>\n   </g>\n   <g id=\"line2d_107\">\n    <path d=\"M 34.923295 13.5 \nL 44.646742 83.741027 \nL 54.370189 101.95054 \nL 64.093636 109.022536 \nL 73.817082 115.968804 \nL 83.540529 120.295765 \nL 93.263976 124.901627 \nL 102.987423 123.113996 \nL 112.71087 126.446887 \nL 122.434316 129.231946 \nL 132.157763 131.194804 \nL 141.88121 132.202626 \nL 151.604657 132.831705 \nL 161.328104 134.239631 \nL 171.051551 135.864641 \nL 180.774997 136.173795 \nL 190.498444 134.369594 \nL 200.221891 139.331631 \n\" clip-path=\"url(#p3d93e933c4)\" style=\"fill: none; stroke: #1f77b4; stroke-width: 1.5; stroke-linecap: square\"/>\n   </g>\n   <g id=\"line2d_108\">\n    <path d=\"M 49.633125 80.731465 \nL 69.163125 108.083727 \nL 88.693125 114.182432 \nL 108.223125 92.815409 \nL 127.753125 121.340839 \nL 147.283125 125.207101 \nL 166.813125 126.757585 \nL 186.343125 109.38435 \n\" clip-path=\"url(#p3d93e933c4)\" style=\"fill: none; stroke-dasharray: 5.55,2.4; stroke-dashoffset: 0; stroke: #ff7f0e; stroke-width: 1.5\"/>\n   </g>\n   <g id=\"line2d_109\">\n    <path d=\"M 49.633125 54.131858 \nL 69.163125 41.211238 \nL 88.693125 39.436284 \nL 108.223125 54.210165 \nL 127.753125 38.940341 \nL 147.283125 37.295898 \nL 166.813125 36.669444 \nL 186.343125 44.865555 \n\" clip-path=\"url(#p3d93e933c4)\" style=\"fill: none; stroke-dasharray: 9.6,2.4,1.5,2.4; stroke-dashoffset: 0; stroke: #2ca02c; stroke-width: 1.5\"/>\n   </g>\n   <g id=\"line2d_110\">\n    <path d=\"M 34.923295 13.5 \nL 44.646742 83.741027 \nL 54.370189 101.95054 \nL 64.093636 109.022536 \nL 73.817082 115.968804 \nL 83.540529 120.295765 \nL 93.263976 124.901627 \nL 102.987423 123.113996 \nL 112.71087 126.446887 \nL 122.434316 129.231946 \nL 132.157763 131.194804 \nL 141.88121 132.202626 \nL 151.604657 132.831705 \nL 161.328104 134.239631 \nL 171.051551 135.864641 \nL 180.774997 136.173795 \nL 190.498444 134.369594 \nL 200.221891 139.331631 \n\" clip-path=\"url(#p3d93e933c4)\" style=\"fill: none; stroke: #1f77b4; stroke-width: 1.5; stroke-linecap: square\"/>\n   </g>\n   <g id=\"line2d_111\">\n    <path d=\"M 49.633125 80.731465 \nL 69.163125 108.083727 \nL 88.693125 114.182432 \nL 108.223125 92.815409 \nL 127.753125 121.340839 \nL 147.283125 125.207101 \nL 166.813125 126.757585 \nL 186.343125 109.38435 \nL 205.873125 127.64246 \n\" clip-path=\"url(#p3d93e933c4)\" style=\"fill: none; stroke-dasharray: 5.55,2.4; stroke-dashoffset: 0; stroke: #ff7f0e; stroke-width: 1.5\"/>\n   </g>\n   <g id=\"line2d_112\">\n    <path d=\"M 49.633125 54.131858 \nL 69.163125 41.211238 \nL 88.693125 39.436284 \nL 108.223125 54.210165 \nL 127.753125 38.940341 \nL 147.283125 37.295898 \nL 166.813125 36.669444 \nL 186.343125 44.865555 \n\" clip-path=\"url(#p3d93e933c4)\" style=\"fill: none; stroke-dasharray: 9.6,2.4,1.5,2.4; stroke-dashoffset: 0; stroke: #2ca02c; stroke-width: 1.5\"/>\n   </g>\n   <g id=\"line2d_113\">\n    <path d=\"M 34.923295 13.5 \nL 44.646742 83.741027 \nL 54.370189 101.95054 \nL 64.093636 109.022536 \nL 73.817082 115.968804 \nL 83.540529 120.295765 \nL 93.263976 124.901627 \nL 102.987423 123.113996 \nL 112.71087 126.446887 \nL 122.434316 129.231946 \nL 132.157763 131.194804 \nL 141.88121 132.202626 \nL 151.604657 132.831705 \nL 161.328104 134.239631 \nL 171.051551 135.864641 \nL 180.774997 136.173795 \nL 190.498444 134.369594 \nL 200.221891 139.331631 \n\" clip-path=\"url(#p3d93e933c4)\" style=\"fill: none; stroke: #1f77b4; stroke-width: 1.5; stroke-linecap: square\"/>\n   </g>\n   <g id=\"line2d_114\">\n    <path d=\"M 49.633125 80.731465 \nL 69.163125 108.083727 \nL 88.693125 114.182432 \nL 108.223125 92.815409 \nL 127.753125 121.340839 \nL 147.283125 125.207101 \nL 166.813125 126.757585 \nL 186.343125 109.38435 \nL 205.873125 127.64246 \n\" clip-path=\"url(#p3d93e933c4)\" style=\"fill: none; stroke-dasharray: 5.55,2.4; stroke-dashoffset: 0; stroke: #ff7f0e; stroke-width: 1.5\"/>\n   </g>\n   <g id=\"line2d_115\">\n    <path d=\"M 49.633125 54.131858 \nL 69.163125 41.211238 \nL 88.693125 39.436284 \nL 108.223125 54.210165 \nL 127.753125 38.940341 \nL 147.283125 37.295898 \nL 166.813125 36.669444 \nL 186.343125 44.865555 \nL 205.873125 36.27791 \n\" clip-path=\"url(#p3d93e933c4)\" style=\"fill: none; stroke-dasharray: 9.6,2.4,1.5,2.4; stroke-dashoffset: 0; stroke: #2ca02c; stroke-width: 1.5\"/>\n   </g>\n   <g id=\"line2d_116\">\n    <path d=\"M 34.923295 13.5 \nL 44.646742 83.741027 \nL 54.370189 101.95054 \nL 64.093636 109.022536 \nL 73.817082 115.968804 \nL 83.540529 120.295765 \nL 93.263976 124.901627 \nL 102.987423 123.113996 \nL 112.71087 126.446887 \nL 122.434316 129.231946 \nL 132.157763 131.194804 \nL 141.88121 132.202626 \nL 151.604657 132.831705 \nL 161.328104 134.239631 \nL 171.051551 135.864641 \nL 180.774997 136.173795 \nL 190.498444 134.369594 \nL 200.221891 139.331631 \nL 209.945338 139.5 \n\" clip-path=\"url(#p3d93e933c4)\" style=\"fill: none; stroke: #1f77b4; stroke-width: 1.5; stroke-linecap: square\"/>\n   </g>\n   <g id=\"line2d_117\">\n    <path d=\"M 49.633125 80.731465 \nL 69.163125 108.083727 \nL 88.693125 114.182432 \nL 108.223125 92.815409 \nL 127.753125 121.340839 \nL 147.283125 125.207101 \nL 166.813125 126.757585 \nL 186.343125 109.38435 \nL 205.873125 127.64246 \n\" clip-path=\"url(#p3d93e933c4)\" style=\"fill: none; stroke-dasharray: 5.55,2.4; stroke-dashoffset: 0; stroke: #ff7f0e; stroke-width: 1.5\"/>\n   </g>\n   <g id=\"line2d_118\">\n    <path d=\"M 49.633125 54.131858 \nL 69.163125 41.211238 \nL 88.693125 39.436284 \nL 108.223125 54.210165 \nL 127.753125 38.940341 \nL 147.283125 37.295898 \nL 166.813125 36.669444 \nL 186.343125 44.865555 \nL 205.873125 36.27791 \n\" clip-path=\"url(#p3d93e933c4)\" style=\"fill: none; stroke-dasharray: 9.6,2.4,1.5,2.4; stroke-dashoffset: 0; stroke: #2ca02c; stroke-width: 1.5\"/>\n   </g>\n   <g id=\"line2d_119\">\n    <path d=\"M 34.923295 13.5 \nL 44.646742 83.741027 \nL 54.370189 101.95054 \nL 64.093636 109.022536 \nL 73.817082 115.968804 \nL 83.540529 120.295765 \nL 93.263976 124.901627 \nL 102.987423 123.113996 \nL 112.71087 126.446887 \nL 122.434316 129.231946 \nL 132.157763 131.194804 \nL 141.88121 132.202626 \nL 151.604657 132.831705 \nL 161.328104 134.239631 \nL 171.051551 135.864641 \nL 180.774997 136.173795 \nL 190.498444 134.369594 \nL 200.221891 139.331631 \nL 209.945338 139.5 \nL 219.668785 138.123286 \n\" clip-path=\"url(#p3d93e933c4)\" style=\"fill: none; stroke: #1f77b4; stroke-width: 1.5; stroke-linecap: square\"/>\n   </g>\n   <g id=\"line2d_120\">\n    <path d=\"M 49.633125 80.731465 \nL 69.163125 108.083727 \nL 88.693125 114.182432 \nL 108.223125 92.815409 \nL 127.753125 121.340839 \nL 147.283125 125.207101 \nL 166.813125 126.757585 \nL 186.343125 109.38435 \nL 205.873125 127.64246 \n\" clip-path=\"url(#p3d93e933c4)\" style=\"fill: none; stroke-dasharray: 5.55,2.4; stroke-dashoffset: 0; stroke: #ff7f0e; stroke-width: 1.5\"/>\n   </g>\n   <g id=\"line2d_121\">\n    <path d=\"M 49.633125 54.131858 \nL 69.163125 41.211238 \nL 88.693125 39.436284 \nL 108.223125 54.210165 \nL 127.753125 38.940341 \nL 147.283125 37.295898 \nL 166.813125 36.669444 \nL 186.343125 44.865555 \nL 205.873125 36.27791 \n\" clip-path=\"url(#p3d93e933c4)\" style=\"fill: none; stroke-dasharray: 9.6,2.4,1.5,2.4; stroke-dashoffset: 0; stroke: #2ca02c; stroke-width: 1.5\"/>\n   </g>\n   <g id=\"line2d_122\">\n    <path d=\"M 34.923295 13.5 \nL 44.646742 83.741027 \nL 54.370189 101.95054 \nL 64.093636 109.022536 \nL 73.817082 115.968804 \nL 83.540529 120.295765 \nL 93.263976 124.901627 \nL 102.987423 123.113996 \nL 112.71087 126.446887 \nL 122.434316 129.231946 \nL 132.157763 131.194804 \nL 141.88121 132.202626 \nL 151.604657 132.831705 \nL 161.328104 134.239631 \nL 171.051551 135.864641 \nL 180.774997 136.173795 \nL 190.498444 134.369594 \nL 200.221891 139.331631 \nL 209.945338 139.5 \nL 219.668785 138.123286 \n\" clip-path=\"url(#p3d93e933c4)\" style=\"fill: none; stroke: #1f77b4; stroke-width: 1.5; stroke-linecap: square\"/>\n   </g>\n   <g id=\"line2d_123\">\n    <path d=\"M 49.633125 80.731465 \nL 69.163125 108.083727 \nL 88.693125 114.182432 \nL 108.223125 92.815409 \nL 127.753125 121.340839 \nL 147.283125 125.207101 \nL 166.813125 126.757585 \nL 186.343125 109.38435 \nL 205.873125 127.64246 \nL 225.403125 129.810524 \n\" clip-path=\"url(#p3d93e933c4)\" style=\"fill: none; stroke-dasharray: 5.55,2.4; stroke-dashoffset: 0; stroke: #ff7f0e; stroke-width: 1.5\"/>\n   </g>\n   <g id=\"line2d_124\">\n    <path d=\"M 49.633125 54.131858 \nL 69.163125 41.211238 \nL 88.693125 39.436284 \nL 108.223125 54.210165 \nL 127.753125 38.940341 \nL 147.283125 37.295898 \nL 166.813125 36.669444 \nL 186.343125 44.865555 \nL 205.873125 36.27791 \n\" clip-path=\"url(#p3d93e933c4)\" style=\"fill: none; stroke-dasharray: 9.6,2.4,1.5,2.4; stroke-dashoffset: 0; stroke: #2ca02c; stroke-width: 1.5\"/>\n   </g>\n   <g id=\"line2d_125\">\n    <path d=\"M 34.923295 13.5 \nL 44.646742 83.741027 \nL 54.370189 101.95054 \nL 64.093636 109.022536 \nL 73.817082 115.968804 \nL 83.540529 120.295765 \nL 93.263976 124.901627 \nL 102.987423 123.113996 \nL 112.71087 126.446887 \nL 122.434316 129.231946 \nL 132.157763 131.194804 \nL 141.88121 132.202626 \nL 151.604657 132.831705 \nL 161.328104 134.239631 \nL 171.051551 135.864641 \nL 180.774997 136.173795 \nL 190.498444 134.369594 \nL 200.221891 139.331631 \nL 209.945338 139.5 \nL 219.668785 138.123286 \n\" clip-path=\"url(#p3d93e933c4)\" style=\"fill: none; stroke: #1f77b4; stroke-width: 1.5; stroke-linecap: square\"/>\n   </g>\n   <g id=\"line2d_126\">\n    <path d=\"M 49.633125 80.731465 \nL 69.163125 108.083727 \nL 88.693125 114.182432 \nL 108.223125 92.815409 \nL 127.753125 121.340839 \nL 147.283125 125.207101 \nL 166.813125 126.757585 \nL 186.343125 109.38435 \nL 205.873125 127.64246 \nL 225.403125 129.810524 \n\" clip-path=\"url(#p3d93e933c4)\" style=\"fill: none; stroke-dasharray: 5.55,2.4; stroke-dashoffset: 0; stroke: #ff7f0e; stroke-width: 1.5\"/>\n   </g>\n   <g id=\"line2d_127\">\n    <path d=\"M 49.633125 54.131858 \nL 69.163125 41.211238 \nL 88.693125 39.436284 \nL 108.223125 54.210165 \nL 127.753125 38.940341 \nL 147.283125 37.295898 \nL 166.813125 36.669444 \nL 186.343125 44.865555 \nL 205.873125 36.27791 \nL 225.403125 35.651456 \n\" clip-path=\"url(#p3d93e933c4)\" style=\"fill: none; stroke-dasharray: 9.6,2.4,1.5,2.4; stroke-dashoffset: 0; stroke: #2ca02c; stroke-width: 1.5\"/>\n   </g>\n   <g id=\"patch_3\">\n    <path d=\"M 30.103125 145.8 \nL 30.103125 7.2 \n\" style=\"fill: none; stroke: #000000; stroke-width: 0.8; stroke-linejoin: miter; stroke-linecap: square\"/>\n   </g>\n   <g id=\"patch_4\">\n    <path d=\"M 225.403125 145.8 \nL 225.403125 7.2 \n\" style=\"fill: none; stroke: #000000; stroke-width: 0.8; stroke-linejoin: miter; stroke-linecap: square\"/>\n   </g>\n   <g id=\"patch_5\">\n    <path d=\"M 30.103125 145.8 \nL 225.403125 145.8 \n\" style=\"fill: none; stroke: #000000; stroke-width: 0.8; stroke-linejoin: miter; stroke-linecap: square\"/>\n   </g>\n   <g id=\"patch_6\">\n    <path d=\"M 30.103125 7.2 \nL 225.403125 7.2 \n\" style=\"fill: none; stroke: #000000; stroke-width: 0.8; stroke-linejoin: miter; stroke-linecap: square\"/>\n   </g>\n   <g id=\"legend_1\">\n    <g id=\"patch_7\">\n     <path d=\"M 138.8125 100.434375 \nL 218.403125 100.434375 \nQ 220.403125 100.434375 220.403125 98.434375 \nL 220.403125 54.565625 \nQ 220.403125 52.565625 218.403125 52.565625 \nL 138.8125 52.565625 \nQ 136.8125 52.565625 136.8125 54.565625 \nL 136.8125 98.434375 \nQ 136.8125 100.434375 138.8125 100.434375 \nz\n\" style=\"fill: #ffffff; opacity: 0.8; stroke: #cccccc; stroke-linejoin: miter\"/>\n    </g>\n    <g id=\"line2d_128\">\n     <path d=\"M 140.8125 60.664063 \nL 150.8125 60.664063 \nL 160.8125 60.664063 \n\" style=\"fill: none; stroke: #1f77b4; stroke-width: 1.5; stroke-linecap: square\"/>\n    </g>\n    <g id=\"text_13\">\n     <!-- train_loss -->\n     <g transform=\"translate(168.8125 64.164063) scale(0.1 -0.1)\">\n      <defs>\n       <path id=\"DejaVuSans-74\" d=\"M 1172 4494 \nL 1172 3500 \nL 2356 3500 \nL 2356 3053 \nL 1172 3053 \nL 1172 1153 \nQ 1172 725 1289 603 \nQ 1406 481 1766 481 \nL 2356 481 \nL 2356 0 \nL 1766 0 \nQ 1100 0 847 248 \nQ 594 497 594 1153 \nL 594 3053 \nL 172 3053 \nL 172 3500 \nL 594 3500 \nL 594 4494 \nL 1172 4494 \nz\n\" transform=\"scale(0.015625)\"/>\n       <path id=\"DejaVuSans-72\" d=\"M 2631 2963 \nQ 2534 3019 2420 3045 \nQ 2306 3072 2169 3072 \nQ 1681 3072 1420 2755 \nQ 1159 2438 1159 1844 \nL 1159 0 \nL 581 0 \nL 581 3500 \nL 1159 3500 \nL 1159 2956 \nQ 1341 3275 1631 3429 \nQ 1922 3584 2338 3584 \nQ 2397 3584 2469 3576 \nQ 2541 3569 2628 3553 \nL 2631 2963 \nz\n\" transform=\"scale(0.015625)\"/>\n       <path id=\"DejaVuSans-61\" d=\"M 2194 1759 \nQ 1497 1759 1228 1600 \nQ 959 1441 959 1056 \nQ 959 750 1161 570 \nQ 1363 391 1709 391 \nQ 2188 391 2477 730 \nQ 2766 1069 2766 1631 \nL 2766 1759 \nL 2194 1759 \nz\nM 3341 1997 \nL 3341 0 \nL 2766 0 \nL 2766 531 \nQ 2569 213 2275 61 \nQ 1981 -91 1556 -91 \nQ 1019 -91 701 211 \nQ 384 513 384 1019 \nQ 384 1609 779 1909 \nQ 1175 2209 1959 2209 \nL 2766 2209 \nL 2766 2266 \nQ 2766 2663 2505 2880 \nQ 2244 3097 1772 3097 \nQ 1472 3097 1187 3025 \nQ 903 2953 641 2809 \nL 641 3341 \nQ 956 3463 1253 3523 \nQ 1550 3584 1831 3584 \nQ 2591 3584 2966 3190 \nQ 3341 2797 3341 1997 \nz\n\" transform=\"scale(0.015625)\"/>\n       <path id=\"DejaVuSans-69\" d=\"M 603 3500 \nL 1178 3500 \nL 1178 0 \nL 603 0 \nL 603 3500 \nz\nM 603 4863 \nL 1178 4863 \nL 1178 4134 \nL 603 4134 \nL 603 4863 \nz\n\" transform=\"scale(0.015625)\"/>\n       <path id=\"DejaVuSans-6e\" d=\"M 3513 2113 \nL 3513 0 \nL 2938 0 \nL 2938 2094 \nQ 2938 2591 2744 2837 \nQ 2550 3084 2163 3084 \nQ 1697 3084 1428 2787 \nQ 1159 2491 1159 1978 \nL 1159 0 \nL 581 0 \nL 581 3500 \nL 1159 3500 \nL 1159 2956 \nQ 1366 3272 1645 3428 \nQ 1925 3584 2291 3584 \nQ 2894 3584 3203 3211 \nQ 3513 2838 3513 2113 \nz\n\" transform=\"scale(0.015625)\"/>\n       <path id=\"DejaVuSans-5f\" d=\"M 3263 -1063 \nL 3263 -1509 \nL -63 -1509 \nL -63 -1063 \nL 3263 -1063 \nz\n\" transform=\"scale(0.015625)\"/>\n       <path id=\"DejaVuSans-6c\" d=\"M 603 4863 \nL 1178 4863 \nL 1178 0 \nL 603 0 \nL 603 4863 \nz\n\" transform=\"scale(0.015625)\"/>\n       <path id=\"DejaVuSans-73\" d=\"M 2834 3397 \nL 2834 2853 \nQ 2591 2978 2328 3040 \nQ 2066 3103 1784 3103 \nQ 1356 3103 1142 2972 \nQ 928 2841 928 2578 \nQ 928 2378 1081 2264 \nQ 1234 2150 1697 2047 \nL 1894 2003 \nQ 2506 1872 2764 1633 \nQ 3022 1394 3022 966 \nQ 3022 478 2636 193 \nQ 2250 -91 1575 -91 \nQ 1294 -91 989 -36 \nQ 684 19 347 128 \nL 347 722 \nQ 666 556 975 473 \nQ 1284 391 1588 391 \nQ 1994 391 2212 530 \nQ 2431 669 2431 922 \nQ 2431 1156 2273 1281 \nQ 2116 1406 1581 1522 \nL 1381 1569 \nQ 847 1681 609 1914 \nQ 372 2147 372 2553 \nQ 372 3047 722 3315 \nQ 1072 3584 1716 3584 \nQ 2034 3584 2315 3537 \nQ 2597 3491 2834 3397 \nz\n\" transform=\"scale(0.015625)\"/>\n      </defs>\n      <use xlink:href=\"#DejaVuSans-74\"/>\n      <use xlink:href=\"#DejaVuSans-72\" x=\"39.208984\"/>\n      <use xlink:href=\"#DejaVuSans-61\" x=\"80.322266\"/>\n      <use xlink:href=\"#DejaVuSans-69\" x=\"141.601562\"/>\n      <use xlink:href=\"#DejaVuSans-6e\" x=\"169.384766\"/>\n      <use xlink:href=\"#DejaVuSans-5f\" x=\"232.763672\"/>\n      <use xlink:href=\"#DejaVuSans-6c\" x=\"282.763672\"/>\n      <use xlink:href=\"#DejaVuSans-6f\" x=\"310.546875\"/>\n      <use xlink:href=\"#DejaVuSans-73\" x=\"371.728516\"/>\n      <use xlink:href=\"#DejaVuSans-73\" x=\"423.828125\"/>\n     </g>\n    </g>\n    <g id=\"line2d_129\">\n     <path d=\"M 140.8125 75.620313 \nL 150.8125 75.620313 \nL 160.8125 75.620313 \n\" style=\"fill: none; stroke-dasharray: 5.55,2.4; stroke-dashoffset: 0; stroke: #ff7f0e; stroke-width: 1.5\"/>\n    </g>\n    <g id=\"text_14\">\n     <!-- val_loss -->\n     <g transform=\"translate(168.8125 79.120313) scale(0.1 -0.1)\">\n      <defs>\n       <path id=\"DejaVuSans-76\" d=\"M 191 3500 \nL 800 3500 \nL 1894 563 \nL 2988 3500 \nL 3597 3500 \nL 2284 0 \nL 1503 0 \nL 191 3500 \nz\n\" transform=\"scale(0.015625)\"/>\n      </defs>\n      <use xlink:href=\"#DejaVuSans-76\"/>\n      <use xlink:href=\"#DejaVuSans-61\" x=\"59.179688\"/>\n      <use xlink:href=\"#DejaVuSans-6c\" x=\"120.458984\"/>\n      <use xlink:href=\"#DejaVuSans-5f\" x=\"148.242188\"/>\n      <use xlink:href=\"#DejaVuSans-6c\" x=\"198.242188\"/>\n      <use xlink:href=\"#DejaVuSans-6f\" x=\"226.025391\"/>\n      <use xlink:href=\"#DejaVuSans-73\" x=\"287.207031\"/>\n      <use xlink:href=\"#DejaVuSans-73\" x=\"339.306641\"/>\n     </g>\n    </g>\n    <g id=\"line2d_130\">\n     <path d=\"M 140.8125 90.576563 \nL 150.8125 90.576563 \nL 160.8125 90.576563 \n\" style=\"fill: none; stroke-dasharray: 9.6,2.4,1.5,2.4; stroke-dashoffset: 0; stroke: #2ca02c; stroke-width: 1.5\"/>\n    </g>\n    <g id=\"text_15\">\n     <!-- val_acc -->\n     <g transform=\"translate(168.8125 94.076563) scale(0.1 -0.1)\">\n      <use xlink:href=\"#DejaVuSans-76\"/>\n      <use xlink:href=\"#DejaVuSans-61\" x=\"59.179688\"/>\n      <use xlink:href=\"#DejaVuSans-6c\" x=\"120.458984\"/>\n      <use xlink:href=\"#DejaVuSans-5f\" x=\"148.242188\"/>\n      <use xlink:href=\"#DejaVuSans-61\" x=\"198.242188\"/>\n      <use xlink:href=\"#DejaVuSans-63\" x=\"259.521484\"/>\n      <use xlink:href=\"#DejaVuSans-63\" x=\"314.501953\"/>\n     </g>\n    </g>\n   </g>\n  </g>\n </g>\n <defs>\n  <clipPath id=\"p3d93e933c4\">\n   <rect x=\"30.103125\" y=\"7.2\" width=\"195.3\" height=\"138.6\"/>\n  </clipPath>\n </defs>\n</svg>\n"
          },
          "metadata": {}
        }
      ]
    },
    {
      "metadata": {
        "ExecuteTime": {
          "end_time": "2024-10-15T08:30:36.409308Z",
          "start_time": "2024-10-15T08:30:36.395309Z"
        },
        "id": "38628e98f15ed77"
      },
      "cell_type": "code",
      "source": [],
      "id": "38628e98f15ed77",
      "outputs": [],
      "execution_count": null
    }
  ],
  "metadata": {
    "kernelspec": {
      "display_name": "Python 3",
      "language": "python",
      "name": "python3"
    },
    "language_info": {
      "codemirror_mode": {
        "name": "ipython",
        "version": 2
      },
      "file_extension": ".py",
      "mimetype": "text/x-python",
      "name": "python",
      "nbconvert_exporter": "python",
      "pygments_lexer": "ipython2",
      "version": "2.7.6"
    },
    "colab": {
      "provenance": [],
      "include_colab_link": true
    }
  },
  "nbformat": 4,
  "nbformat_minor": 5
}